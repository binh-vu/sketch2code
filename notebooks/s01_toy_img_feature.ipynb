{
 "cells": [
  {
   "cell_type": "code",
   "execution_count": 8,
   "metadata": {},
   "outputs": [
    {
     "name": "stdout",
     "output_type": "stream",
     "text": [
      "The autoreload extension is already loaded. To reload it, use:\n",
      "  %reload_ext autoreload\n"
     ]
    }
   ],
   "source": [
    "import cv2\n",
    "import torch\n",
    "import h5py\n",
    "import numpy as np\n",
    "import imageio\n",
    "from tqdm import tqdm\n",
    "import matplotlib.pyplot as plt\n",
    "import time\n",
    "from collections import defaultdict\n",
    "\n",
    "%matplotlib inline\n",
    "plt.rcParams[\"figure.figsize\"] = (10.0, 8.0) # set default size of plots\n",
    "plt.rcParams[\"image.interpolation\"] = \"nearest\"\n",
    "plt.rcParams[\"image.cmap\"] = \"gray\"\n",
    "\n",
    "%load_ext autoreload\n",
    "%autoreload 2"
   ]
  },
  {
   "cell_type": "code",
   "execution_count": 44,
   "metadata": {},
   "outputs": [],
   "source": [
    "%reload_ext autoreload\n",
    "\n",
    "from sketch2code.data_model import *\n",
    "from sketch2code.datasets import *\n",
    "from sketch2code.helpers import *\n",
    "from sketch2code.methods.lstm import *\n",
    "from sketch2code.methods.baseline1_supervised import *\n",
    "from s01_toy_img_feature import *"
   ]
  },
  {
   "cell_type": "markdown",
   "metadata": {},
   "source": [
    "## Purpose\n",
    "\n",
    "We want to find out the best CNN architecture for capturing features of the desired sketch image, so that we can use it to predict next tokens for the HTML/CSS program.\n",
    "\n",
    "We test the CNN on a toy dataset, which predicts if the image has how many buttons of different colors and how many columns in the images"
   ]
  },
  {
   "cell_type": "code",
   "execution_count": 5,
   "metadata": {},
   "outputs": [],
   "source": [
    "device = torch.device(\"cuda\" if torch.cuda.is_available() else \"cpu\")"
   ]
  },
  {
   "cell_type": "code",
   "execution_count": 4,
   "metadata": {},
   "outputs": [
    {
     "name": "stdout",
     "output_type": "stream",
     "text": [
      "#examples 1750\n"
     ]
    },
    {
     "data": {
      "text/plain": [
       "<matplotlib.image.AxesImage at 0x7efcf36e70b8>"
      ]
     },
     "execution_count": 4,
     "metadata": {},
     "output_type": "execute_result"
    },
    {
     "data": {
      "image/png": "[encoded data removed]",
      "text/plain": [
       "<Figure size 432x288 with 1 Axes>"
      ]
     },
     "metadata": {
      "needs_background": "light"
     },
     "output_type": "display_data"
    }
   ],
   "source": [
    "tags, images = load_dataset(\"toy\")\n",
    "print(\"#examples\", len(tags))\n",
    "images = [shrink_img(img, 0.5).transpose((2, 0, 1)) for img in norm_rgb_imgs(images[:])]\n",
    "plt.imshow(1 - images[0].transpose(1, 2, 0))"
   ]
  },
  {
   "cell_type": "markdown",
   "metadata": {},
   "source": [
    "### Create datasets"
   ]
  },
  {
   "cell_type": "code",
   "execution_count": 42,
   "metadata": {},
   "outputs": [
    {
     "name": "stdout",
     "output_type": "stream",
     "text": [
      "#classes=84, #tags=1750\n"
     ]
    },
    {
     "data": {
      "text/plain": [
       "<BarContainer object of 84 artists>"
      ]
     },
     "execution_count": 42,
     "metadata": {},
     "output_type": "execute_result"
    },
    {
     "data": {
      "image/png": "[encoded data removed]",
      "text/plain": [
       "<Figure size 720x576 with 1 Axes>"
      ]
     },
     "metadata": {
      "needs_background": "light"
     },
     "output_type": "display_data"
    }
   ],
   "source": [
    "class2id = {}\n",
    "classes = defaultdict(lambda: 0)\n",
    "for tag in tags:\n",
    "    lbl, n_buttons, buttons, rows = tag2class(tag)    \n",
    "    # create customize label\n",
    "    ulbl = \"-\".join(rows)\n",
    "#     ulbl = str(n_buttons)\n",
    "#     ulbl = \"-\".join(str(buttons[x]) for x in sorted(buttons.keys()))\n",
    "    if ulbl not in class2id:\n",
    "        class2id[ulbl] = len(class2id)\n",
    "\n",
    "    classes[class2id[ulbl]] += 1\n",
    "\n",
    "print(f\"#classes={len(class2id)}, #tags={len(tags)}\")\n",
    "x, y = list(zip(*classes.items()))\n",
    "plt.bar(x, y)"
   ]
  },
  {
   "cell_type": "code",
   "execution_count": 47,
   "metadata": {},
   "outputs": [],
   "source": [
    "nbtn_class2id, row_class2id = make_vocab(tags[:1250])\n",
    "train_X, train_nbtn_y, train_row_y = make_dataset(images[:1250], tags[:1250], row_class2id, nbtn_class2id)\n",
    "valid_X, valid_nbtn_y, valid_row_y = make_dataset(images[1250:1500], tags[1250:1500], row_class2id, nbtn_class2id)\n",
    "test_X, test_nbtn_y, test_row_y = make_dataset(images[1500:], tags[1500:], row_class2id, nbtn_class2id)"
   ]
  },
  {
   "cell_type": "markdown",
   "metadata": {},
   "source": [
    "### Define the model"
   ]
  },
  {
   "cell_type": "code",
   "execution_count": 53,
   "metadata": {},
   "outputs": [],
   "source": [
    "class CNNToyFeature(nn.Module):\n",
    "\n",
    "    def __init__(self, img_h: int, img_w: int, n_class: int):\n",
    "        super().__init__()\n",
    "        self.img_w = img_w\n",
    "        self.img_h = img_h\n",
    "\n",
    "        self.n_class = n_class\n",
    "        self.__build_model()\n",
    "\n",
    "    def __build_model(self):\n",
    "        # network compute features of target image\n",
    "        self.conv1 = nn.Conv2d(3, 16, kernel_size=7, stride=2)\n",
    "        self.bn1 = nn.BatchNorm2d(16, momentum=0.9)\n",
    "        self.pool1 = nn.MaxPool2d(kernel_size=3, stride=2)\n",
    "\n",
    "        self.conv2 = nn.Conv2d(16, 32, kernel_size=5, stride=1)\n",
    "        self.bn2 = nn.BatchNorm2d(32, momentum=0.9)\n",
    "        self.pool2 = nn.MaxPool2d(kernel_size=3, stride=2)\n",
    "\n",
    "        imgsize = [self.img_h, self.img_w]\n",
    "        for i, s in enumerate(imgsize):\n",
    "            s = conv2d_size_out(s, 7, 2)\n",
    "            s = pool2d_size_out(s, 3, 2)\n",
    "            s = conv2d_size_out(s, 5, 1)\n",
    "            s = pool2d_size_out(s, 3, 2)\n",
    "            imgsize[i] = s\n",
    "\n",
    "        linear_input_size = imgsize[0] * imgsize[1] * 32\n",
    "        \n",
    "        self.fc1 = nn.Linear(linear_input_size, 300)\n",
    "        self.fc2 = nn.Linear(300, self.n_class)\n",
    "        \n",
    "    def forward(self, X):\n",
    "        # X is N x C x W x H\n",
    "        X = self.pool1(F.relu(self.conv1(X)))\n",
    "        X = self.pool2(F.relu(self.conv2(X)))\n",
    "        \n",
    "        # flatten to N x (C * W * H)\n",
    "        X = X.view(X.shape[0], -1)\n",
    "        X = F.relu(self.fc1(X))\n",
    "        X = self.fc2(X)\n",
    "        \n",
    "        return X"
   ]
  },
  {
   "cell_type": "code",
   "execution_count": 55,
   "metadata": {},
   "outputs": [
    {
     "data": {
      "text/plain": [
       "CNNToyFeature(\n",
       "  (conv1): Conv2d(3, 16, kernel_size=(7, 7), stride=(2, 2))\n",
       "  (bn1): BatchNorm2d(16, eps=1e-05, momentum=0.9, affine=True, track_running_stats=True)\n",
       "  (pool1): MaxPool2d(kernel_size=3, stride=2, padding=0, dilation=1, ceil_mode=False)\n",
       "  (conv2): Conv2d(16, 32, kernel_size=(5, 5), stride=(1, 1))\n",
       "  (bn2): BatchNorm2d(32, eps=1e-05, momentum=0.9, affine=True, track_running_stats=True)\n",
       "  (pool2): MaxPool2d(kernel_size=3, stride=2, padding=0, dilation=1, ceil_mode=False)\n",
       "  (fc1): Linear(in_features=12480, out_features=300, bias=True)\n",
       "  (fc2): Linear(in_features=300, out_features=84, bias=True)\n",
       ")"
      ]
     },
     "execution_count": 55,
     "metadata": {},
     "output_type": "execute_result"
    }
   ],
   "source": [
    "model = CNNToyFeature(img_h=150, img_w=240, n_class=len(row_class2id)).to(device)\n",
    "model.eval()"
   ]
  },
  {
   "cell_type": "code",
   "execution_count": null,
   "metadata": {},
   "outputs": [],
   "source": []
  }
 ],
 "metadata": {
  "kernelspec": {
   "display_name": "sketch2code",
   "language": "python",
   "name": "sketch2code"
  },
  "language_info": {
   "codemirror_mode": {
    "name": "ipython",
    "version": 3
   },
   "file_extension": ".py",
   "mimetype": "text/x-python",
   "name": "python",
   "nbconvert_exporter": "python",
   "pygments_lexer": "ipython3",
   "version": "3.7.1"
  }
 },
 "nbformat": 4,
 "nbformat_minor": 2
}
