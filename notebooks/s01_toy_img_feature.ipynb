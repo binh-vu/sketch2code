{
 "cells": [
  {
   "cell_type": "code",
   "execution_count": 1,
   "metadata": {},
   "outputs": [],
   "source": [
    "import cv2\n",
    "import torch\n",
    "import h5py\n",
    "import numpy as np\n",
    "import imageio\n",
    "from tqdm import tqdm\n",
    "import matplotlib.pyplot as plt\n",
    "import time\n",
    "from collections import defaultdict\n",
    "\n",
    "%matplotlib inline\n",
    "plt.rcParams[\"figure.figsize\"] = (10.0, 8.0) # set default size of plots\n",
    "plt.rcParams[\"image.interpolation\"] = \"nearest\"\n",
    "plt.rcParams[\"image.cmap\"] = \"gray\"\n",
    "\n",
    "%load_ext autoreload\n",
    "%autoreload 2"
   ]
  },
  {
   "cell_type": "code",
   "execution_count": 2,
   "metadata": {},
   "outputs": [
    {
     "name": "stderr",
     "output_type": "stream",
     "text": [
      "/home/rook/.local/share/virtualenvs/sketch2code-rS5pvLAN/lib/python3.7/site-packages/tqdm/autonotebook/__init__.py:14: TqdmExperimentalWarning: Using `tqdm.autonotebook.tqdm` in notebook mode. Use `tqdm.tqdm` instead to force console mode (e.g. in jupyter console)\n",
      "  \" (e.g. in jupyter console)\", TqdmExperimentalWarning)\n"
     ]
    }
   ],
   "source": [
    "%reload_ext autoreload\n",
    "\n",
    "from sketch2code.data_model import *\n",
    "from sketch2code.datasets import *\n",
    "from sketch2code.helpers import *\n",
    "from sketch2code.methods.lstm import *\n",
    "from sketch2code.methods.baseline1_supervised import *\n",
    "from s01_toy_img_feature import *"
   ]
  },
  {
   "cell_type": "markdown",
   "metadata": {},
   "source": [
    "## Purpose\n",
    "\n",
    "We want to find out the best CNN architecture for capturing features of the desired sketch image, so that we can use it to predict next tokens for the HTML/CSS program.\n",
    "\n",
    "We test the CNN on a toy dataset, which predicts if the image has how many buttons of different colors and how many columns in the images"
   ]
  },
  {
   "cell_type": "code",
   "execution_count": 3,
   "metadata": {},
   "outputs": [
    {
     "data": {
      "text/plain": [
       "device(type='cuda')"
      ]
     },
     "execution_count": 3,
     "metadata": {},
     "output_type": "execute_result"
    }
   ],
   "source": [
    "device = torch.device(\"cuda\" if torch.cuda.is_available() else \"cpu\")\n",
    "device"
   ]
  },
  {
   "cell_type": "code",
   "execution_count": 4,
   "metadata": {},
   "outputs": [
    {
     "name": "stdout",
     "output_type": "stream",
     "text": [
      "#examples 1750\n"
     ]
    },
    {
     "data": {
      "text/plain": [
       "<matplotlib.image.AxesImage at 0x7fdadcc3aa90>"
      ]
     },
     "execution_count": 4,
     "metadata": {},
     "output_type": "execute_result"
    },
    {
     "data": {
      "image/png": "[encoded data removed]",
      "text/plain": [
       "<Figure size 432x288 with 1 Axes>"
      ]
     },
     "metadata": {
      "needs_background": "light"
     },
     "output_type": "display_data"
    }
   ],
   "source": [
    "tags, images = load_dataset(\"toy\")\n",
    "print(\"#examples\", len(tags))\n",
    "images = [shrink_img(img, 0.5).transpose((2, 0, 1)) for img in norm_rgb_imgs(images[:])]\n",
    "plt.imshow(1 - images[0].transpose(1, 2, 0))"
   ]
  },
  {
   "cell_type": "markdown",
   "metadata": {},
   "source": [
    "### Create datasets"
   ]
  },
  {
   "cell_type": "code",
   "execution_count": 5,
   "metadata": {},
   "outputs": [
    {
     "name": "stdout",
     "output_type": "stream",
     "text": [
      "#classes=84, #tags=1750\n"
     ]
    },
    {
     "data": {
      "text/plain": [
       "<BarContainer object of 84 artists>"
      ]
     },
     "execution_count": 5,
     "metadata": {},
     "output_type": "execute_result"
    },
    {
     "data": {
      "image/png": "[encoded data removed]",
      "text/plain": [
       "<Figure size 432x288 with 1 Axes>"
      ]
     },
     "metadata": {
      "needs_background": "light"
     },
     "output_type": "display_data"
    }
   ],
   "source": [
    "class2id = {}\n",
    "classes = defaultdict(lambda: 0)\n",
    "for tag in tags:\n",
    "    nbtn_class, row_class, n_buttons, buttons, rows = tag2class(tag)    \n",
    "    # create customize label\n",
    "    ulbl = \"-\".join(rows)\n",
    "#     ulbl = str(n_buttons)\n",
    "#     ulbl = \"-\".join(str(buttons[x]) for x in sorted(buttons.keys()))\n",
    "    if ulbl not in class2id:\n",
    "        class2id[ulbl] = len(class2id)\n",
    "\n",
    "    classes[class2id[ulbl]] += 1\n",
    "\n",
    "print(f\"#classes={len(class2id)}, #tags={len(tags)}\")\n",
    "x, y = list(zip(*classes.items()))\n",
    "plt.bar(x, y)"
   ]
  },
  {
   "cell_type": "code",
   "execution_count": 6,
   "metadata": {},
   "outputs": [],
   "source": [
    "nbtn_class2id, row_class2id = make_vocab(tags[:1250])\n",
    "train_X, train_nbtn_y, train_row_y = make_dataset(images[:1250], tags[:1250], row_class2id, nbtn_class2id)\n",
    "valid_X, valid_nbtn_y, valid_row_y = make_dataset(images[1250:1500], tags[1250:1500], row_class2id, nbtn_class2id)\n",
    "test_X, test_nbtn_y, test_row_y = make_dataset(images[1500:], tags[1500:], row_class2id, nbtn_class2id)\n",
    "\n",
    "datasets = {\n",
    "    \"train\": (train_X, train_row_y, train_nbtn_y),\n",
    "    \"valid\": (valid_X, valid_row_y, valid_nbtn_y),\n",
    "    \"test\": (test_X, test_row_y, test_nbtn_y),\n",
    "}"
   ]
  },
  {
   "cell_type": "markdown",
   "metadata": {},
   "source": [
    "### Define the model"
   ]
  },
  {
   "cell_type": "code",
   "execution_count": 60,
   "metadata": {},
   "outputs": [],
   "source": [
    "class CNNToyFeature(nn.Module):\n",
    "\n",
    "    def __init__(self, img_h: int, img_w: int, n_class_task1: int, n_class_task2: int):\n",
    "        super().__init__()\n",
    "        self.img_w = img_w\n",
    "        self.img_h = img_h\n",
    "\n",
    "        self.n_class_task1 = n_class_task1\n",
    "        self.n_class_task2 = n_class_task2\n",
    "        self.__build_model()\n",
    "\n",
    "    def __build_model(self):\n",
    "        # network compute features of target image\n",
    "        self.conv1 = nn.Conv2d(3, 16, kernel_size=7, stride=2)\n",
    "        self.bn1 = nn.BatchNorm2d(16, momentum=0.9)\n",
    "        self.pool1 = nn.MaxPool2d(kernel_size=3, stride=2)\n",
    "\n",
    "        self.conv2 = nn.Conv2d(16, 32, kernel_size=5, stride=1)\n",
    "        self.bn2 = nn.BatchNorm2d(32, momentum=0.9)\n",
    "        self.pool2 = nn.MaxPool2d(kernel_size=3, stride=2)\n",
    "        \n",
    "        self.conv3 = nn.Conv2d(32, 64, kernel_size=5, stride=1)\n",
    "        self.bn3 = nn.BatchNorm2d(64, momentum=0.9)\n",
    "        self.pool3 = nn.MaxPool2d(kernel_size=3, stride=2)\n",
    "        \n",
    "        imgsize = [self.img_h, self.img_w]\n",
    "        for i, s in enumerate(imgsize):\n",
    "            s = conv2d_size_out(s, 7, 2)\n",
    "            s = pool2d_size_out(s, 3, 2)\n",
    "            s = conv2d_size_out(s, 5, 1)\n",
    "            s = pool2d_size_out(s, 3, 2)\n",
    "            s = conv2d_size_out(s, 5, 1)\n",
    "            s = pool2d_size_out(s, 3, 2)\n",
    "            imgsize[i] = s\n",
    "        \n",
    "        linear_input_size = imgsize[0] * imgsize[1] * 64\n",
    "        \n",
    "        self.fc1 = nn.Linear(linear_input_size, 300)\n",
    "        self.fc1_bn = nn.BatchNorm1d(500, momentum=0.9)\n",
    "        self.fc1_dropout = nn.Dropout(p=0.3)\n",
    "        self.fc2 = nn.Linear(500, 250)\n",
    "        self.fc2_bn = nn.BatchNorm1d(250, momentum=0.9)\n",
    "        self.fc2_dropout = nn.Dropout(p=0.6)\n",
    "        self.repr_size = 300\n",
    "        self.task1 = nn.Linear(self.repr_size, self.n_class_task1)\n",
    "        self.task2 = nn.Linear(self.repr_size, self.n_class_task2)\n",
    "        \n",
    "    def forward(self, X):\n",
    "        # X is N x C x W x H\n",
    "        X = self.pool1(F.selu(self.conv1(X)))\n",
    "        X = self.pool2(F.selu(self.conv2(X)))\n",
    "        X = self.pool3(F.selu(self.conv3(X)))\n",
    "        \n",
    "        # flatten to N x (C * W * H)\n",
    "        X = X.view(X.shape[0], -1)\n",
    "        X = F.relu(self.fc1(X))\n",
    "        # X = F.relu(self.fc1_dropout(self.fc1(X)))\n",
    "        # X = F.relu(self.fc2(X))\n",
    "        return X\n",
    "        \n",
    "    def forward_task1(self, X):\n",
    "        X = self.forward(X)\n",
    "        return F.log_softmax(self.task1(X), dim=1)\n",
    "    \n",
    "    def forward_task2(self, X):\n",
    "        X = self.forward(X)\n",
    "        return F.log_softmax(self.task2(X), dim=1)"
   ]
  },
  {
   "cell_type": "code",
   "execution_count": 61,
   "metadata": {},
   "outputs": [
    {
     "name": "stdout",
     "output_type": "stream",
     "text": [
      "3200\n",
      "CNNToyFeature(\n",
      "  (conv1): Conv2d(3, 16, kernel_size=(7, 7), stride=(2, 2))\n",
      "  (bn1): BatchNorm2d(16, eps=1e-05, momentum=0.9, affine=True, track_running_stats=True)\n",
      "  (pool1): MaxPool2d(kernel_size=3, stride=2, padding=0, dilation=1, ceil_mode=False)\n",
      "  (conv2): Conv2d(16, 32, kernel_size=(5, 5), stride=(1, 1))\n",
      "  (bn2): BatchNorm2d(32, eps=1e-05, momentum=0.9, affine=True, track_running_stats=True)\n",
      "  (pool2): MaxPool2d(kernel_size=3, stride=2, padding=0, dilation=1, ceil_mode=False)\n",
      "  (conv3): Conv2d(32, 64, kernel_size=(5, 5), stride=(1, 1))\n",
      "  (bn3): BatchNorm2d(64, eps=1e-05, momentum=0.9, affine=True, track_running_stats=True)\n",
      "  (pool3): MaxPool2d(kernel_size=3, stride=2, padding=0, dilation=1, ceil_mode=False)\n",
      "  (fc1): Linear(in_features=3200, out_features=300, bias=True)\n",
      "  (fc1_bn): BatchNorm1d(500, eps=1e-05, momentum=0.9, affine=True, track_running_stats=True)\n",
      "  (fc1_dropout): Dropout(p=0.3)\n",
      "  (fc2): Linear(in_features=500, out_features=250, bias=True)\n",
      "  (fc2_bn): BatchNorm1d(250, eps=1e-05, momentum=0.9, affine=True, track_running_stats=True)\n",
      "  (fc2_dropout): Dropout(p=0.6)\n",
      "  (task1): Linear(in_features=300, out_features=84, bias=True)\n",
      "  (task2): Linear(in_features=300, out_features=18, bias=True)\n",
      ")\n"
     ]
    },
    {
     "data": {
      "application/vnd.jupyter.widget-view+json": {
       "model_id": "2bf480e88e3f4a8bab805078da52b6c8",
       "version_major": 2,
       "version_minor": 0
      },
      "text/plain": [
       "HBox(children=(IntProgress(value=0, description='epoch', style=ProgressStyle(description_width='initial')), HT…"
      ]
     },
     "metadata": {},
     "output_type": "display_data"
    },
    {
     "data": {
      "application/vnd.jupyter.widget-view+json": {
       "model_id": "9e5c37e47d7d4d2a8f1e4977523e05f0",
       "version_major": 2,
       "version_minor": 0
      },
      "text/plain": [
       "HBox(children=(IntProgress(value=0, description='training', max=1300, style=ProgressStyle(description_width='i…"
      ]
     },
     "metadata": {},
     "output_type": "display_data"
    }
   ],
   "source": [
    "model = CNNToyFeature(img_h=150, img_w=240, n_class_task1=len(row_class2id), n_class_task2=len(nbtn_class2id)).to(device)\n",
    "print(model.eval())\n",
    "model.train()\n",
    "\n",
    "loss_func = torch.nn.NLLLoss()\n",
    "optimizer = torch.optim.Adam(model.parameters(), lr=5e-3, amsgrad=True)\n",
    "scheduler = torch.optim.lr_scheduler.StepLR(optimizer, step_size=20, gamma=0.5)\n",
    "\n",
    "task1_histories, task2_histories = train(model, loss_func, loss_func, scheduler, optimizer, datasets, n_epoches=100, batch_size=100, device=device)"
   ]
  },
  {
   "cell_type": "code",
   "execution_count": 9,
   "metadata": {},
   "outputs": [
    {
     "data": {
      "text/plain": [
       "84"
      ]
     },
     "execution_count": 9,
     "metadata": {},
     "output_type": "execute_result"
    }
   ],
   "source": [
    "len(row_class2id)"
   ]
  },
  {
   "cell_type": "code",
   "execution_count": 22,
   "metadata": {},
   "outputs": [
    {
     "data": {
      "text/plain": [
       "Adam (\n",
       "Parameter Group 0\n",
       "    amsgrad: True\n",
       "    betas: (0.9, 0.999)\n",
       "    eps: 1e-08\n",
       "    initial_lr: 0.005\n",
       "    lr: 0.00125\n",
       "    weight_decay: 0\n",
       ")"
      ]
     },
     "execution_count": 22,
     "metadata": {},
     "output_type": "execute_result"
    }
   ],
   "source": [
    "optimizer"
   ]
  }
 ],
 "metadata": {
  "kernelspec": {
   "display_name": "sketch2code",
   "language": "python",
   "name": "sketch2code"
  },
  "language_info": {
   "codemirror_mode": {
    "name": "ipython",
    "version": 3
   },
   "file_extension": ".py",
   "mimetype": "text/x-python",
   "name": "python",
   "nbconvert_exporter": "python",
   "pygments_lexer": "ipython3",
   "version": "3.7.2"
  }
 },
 "nbformat": 4,
 "nbformat_minor": 2
}
