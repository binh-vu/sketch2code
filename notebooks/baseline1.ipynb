{
 "cells": [
  {
   "cell_type": "code",
   "execution_count": 1,
   "metadata": {},
   "outputs": [],
   "source": [
    "import cv2\n",
    "import torch\n",
    "import h5py\n",
    "import numpy as np\n",
    "import imageio\n",
    "from tqdm import tqdm\n",
    "import matplotlib.pyplot as plt\n",
    "import time\n",
    "\n",
    "%matplotlib inline\n",
    "plt.rcParams[\"figure.figsize\"] = (10.0, 8.0) # set default size of plots\n",
    "plt.rcParams[\"image.interpolation\"] = \"nearest\"\n",
    "plt.rcParams[\"image.cmap\"] = \"gray\"\n",
    "\n",
    "%load_ext autoreload\n",
    "%autoreload 2"
   ]
  },
  {
   "cell_type": "code",
   "execution_count": 2,
   "metadata": {},
   "outputs": [],
   "source": [
    "%reload_ext autoreload\n",
    "\n",
    "from sketch2code.data_model import *\n",
    "from sketch2code.datasets import *\n",
    "from sketch2code.helpers import *\n",
    "from sketch2code.methods.lstm import *\n",
    "from sketch2code.methods.baseline1_supervised import *"
   ]
  },
  {
   "cell_type": "code",
   "execution_count": 3,
   "metadata": {},
   "outputs": [],
   "source": [
    "device = torch.device(\"cuda\" if torch.cuda.is_available() else \"cpu\")"
   ]
  },
  {
   "cell_type": "code",
   "execution_count": 4,
   "metadata": {},
   "outputs": [
    {
     "name": "stdout",
     "output_type": "stream",
     "text": [
      "#examples 1750\n"
     ]
    },
    {
     "data": {
      "text/plain": [
       "<matplotlib.image.AxesImage at 0x7f8a8a911240>"
      ]
     },
     "execution_count": 4,
     "metadata": {},
     "output_type": "execute_result"
    },
    {
     "data": {
      "image/png": "[encoded data removed]",
      "text/plain": [
       "<Figure size 432x288 with 1 Axes>"
      ]
     },
     "metadata": {
      "needs_background": "light"
     },
     "output_type": "display_data"
    }
   ],
   "source": [
    "tags, images = load_dataset(\"toy\")\n",
    "print(\"#examples\", len(tags))\n",
    "images = [shrink_img(img, 0.5).transpose((2, 0, 1)) for img in norm_rgb_imgs(images[:])]\n",
    "plt.imshow(1 - images[0].transpose(1, 2, 0))"
   ]
  },
  {
   "cell_type": "code",
   "execution_count": 5,
   "metadata": {},
   "outputs": [],
   "source": [
    "_tokens = []\n",
    "for c in [\"row\", \"col-12\", \"col-6\", \"col-4\", \"col-3\", \"container-fluid\", \"grey-background\"]:\n",
    "    _tokens.append(f'<div class=\"{c}\">')\n",
    "_tokens.append(f\"</div>\")\n",
    "for c in [\"btn-danger\", \"btn-warning\", \"btn-success\"]:\n",
    "    _tokens.append(f'<button class=\"btn {c}\">')\n",
    "_tokens.append(f\"</button>\")\n",
    "\n",
    "vocab = {'<pad>': 0}\n",
    "for i, token in enumerate(_tokens, start=1):\n",
    "    vocab[token] = i\n",
    "    \n",
    "assert len(vocab) == len(_tokens) + 1\n",
    "ivocab = {v: k for k, v in vocab.items()}"
   ]
  },
  {
   "cell_type": "code",
   "execution_count": 6,
   "metadata": {},
   "outputs": [
    {
     "name": "stdout",
     "output_type": "stream",
     "text": [
      "46402\n",
      "10302\n",
      "10210\n"
     ]
    }
   ],
   "source": [
    "def make_dataset(imgs, progs: List[int]):\n",
    "    Ximgs = []\n",
    "    X = []\n",
    "    y = []\n",
    "    \n",
    "    for img, prog in zip(imgs, progs):\n",
    "        for i in range(5, len(prog) - 1):\n",
    "            Ximgs.append(img)\n",
    "            X.append(prog[:i])\n",
    "            y.append(prog[1:i+1])\n",
    "    \n",
    "    print(len(X))\n",
    "    return Ximgs, X, y\n",
    "\n",
    "def iter_batch(batch_size: int, imgs, X, y, shuffle: bool=False, device=None): \n",
    "    index = list(range(len(X)))\n",
    "    if shuffle:\n",
    "        np.random.shuffle(index)\n",
    "        \n",
    "    for i in range(0, len(X), batch_size):\n",
    "        batch_idx = index[i:i+batch_size]\n",
    "        bimgs = torch.tensor([imgs[j] for j in batch_idx], dtype=torch.float32, device=device)\n",
    "        bx, by, bxlen = prepare_batch_sent_lbls([X[j] for j in batch_idx], [y[j] for j in batch_idx], device=device)\n",
    "        yield (bimgs, bx, bxlen, by)\n",
    "\n",
    "programs = []\n",
    "for tag in tags:\n",
    "    program = [vocab[x] for x in tag.linearize().str_tokens]\n",
    "    programs.append(program)\n",
    "\n",
    "\n",
    "train_imgs, train_X, train_y = make_dataset(images[:1250], programs[:1250])\n",
    "valid_imgs, valid_X, valid_y = make_dataset(images[1250:1500], programs[1250:1500])\n",
    "test_imgs, test_X, test_y = make_dataset(images[1500:], programs[1500:])"
   ]
  },
  {
   "cell_type": "raw",
   "metadata": {},
   "source": [
    "print(programs[0])\n",
    "print([ivocab[x] for x in programs[0]])"
   ]
  },
  {
   "cell_type": "code",
   "execution_count": 7,
   "metadata": {},
   "outputs": [],
   "source": [
    "model = BLSuper1(150, 240, vocab, dsl_embedding_dim=50, dsl_hidden_dim=100).to(device)"
   ]
  },
  {
   "cell_type": "code",
   "execution_count": 8,
   "metadata": {},
   "outputs": [],
   "source": [
    "def eval(model, imgs, X, y, device=None):\n",
    "    losses = []\n",
    "    accuracies = []\n",
    "    n_tokens = 0\n",
    "    \n",
    "    batch_size = 500\n",
    "    model.eval()\n",
    "    with torch.no_grad():\n",
    "        for bimgs, bx, bxlen, by in tqdm(iter_batch(batch_size, imgs, X, y, device=device), desc='eval', total=math.ceil(len(X) / batch_size)):\n",
    "            by_pred = model(bimgs, bx, bxlen)\n",
    "            loss, mask, btokens = padded_aware_nllloss(by_pred, by)\n",
    "            losses.append(loss.item())\n",
    "            \n",
    "            n_tokens += btokens\n",
    "            accuracies.append(((torch.argmax(by_pred, dim=1) == by.view(-1)).float() * mask).sum().item())\n",
    "            \n",
    "    model.train()\n",
    "    return np.mean(losses), sum(accuracies) / n_tokens"
   ]
  },
  {
   "cell_type": "code",
   "execution_count": 9,
   "metadata": {},
   "outputs": [
    {
     "name": "stderr",
     "output_type": "stream",
     "text": [
      "train_loss = 0.47267: 100%|██████████| 465/465 [06:39<00:00,  1.17it/s]\n",
      "eval: 100%|██████████| 21/21 [01:24<00:00,  3.58s/it]"
     ]
    },
    {
     "name": "stdout",
     "output_type": "stream",
     "text": [
      "Epoch 0 valid loss=0.39128 acc=0.79626\n"
     ]
    },
    {
     "name": "stderr",
     "output_type": "stream",
     "text": [
      "\n",
      "eval: 100%|██████████| 21/21 [01:24<00:00,  3.40s/it]"
     ]
    },
    {
     "name": "stdout",
     "output_type": "stream",
     "text": [
      "Epoch 0 test loss=0.40100 acc=0.79316\n"
     ]
    },
    {
     "name": "stderr",
     "output_type": "stream",
     "text": [
      "\n",
      "train_loss = 0.42187: 100%|██████████| 465/465 [06:36<00:00,  1.17it/s]\n",
      "eval: 100%|██████████| 21/21 [01:24<00:00,  3.61s/it]"
     ]
    },
    {
     "name": "stdout",
     "output_type": "stream",
     "text": [
      "Epoch 1 valid loss=0.39382 acc=0.79585\n"
     ]
    },
    {
     "name": "stderr",
     "output_type": "stream",
     "text": [
      "\n",
      "eval: 100%|██████████| 21/21 [01:23<00:00,  3.37s/it]"
     ]
    },
    {
     "name": "stdout",
     "output_type": "stream",
     "text": [
      "Epoch 1 test loss=0.40192 acc=0.79293\n"
     ]
    },
    {
     "name": "stderr",
     "output_type": "stream",
     "text": [
      "\n"
     ]
    }
   ],
   "source": [
    "n_epoches = 2\n",
    "batch_size = 100\n",
    "loss_func = torch.nn.NLLLoss()\n",
    "optimizer = torch.optim.Adam(model.parameters(), lr=5e-2)\n",
    "\n",
    "histories = {'train': [], 'val': [], 'test': []}\n",
    "\n",
    "for i in range(n_epoches):\n",
    "    batches = tqdm(iter_batch(batch_size, train_imgs, train_X, train_y, shuffle=True, device=device), total=math.ceil(len(train_X) / batch_size))\n",
    "    for bimgs, bx, bxlen, by in batches:\n",
    "        model.zero_grad()\n",
    "        by_pred = model(bimgs, bx, bxlen)\n",
    "        loss, _, _ = padded_aware_nllloss(by_pred, by)\n",
    "        histories['train'].append(loss)\n",
    "        loss.backward()\n",
    "        batches.set_description(f'train_loss = {loss:.5f}')\n",
    "        batches.refresh()\n",
    "        optimizer.step()\n",
    "    \n",
    "    vloss, vacc = eval(model, valid_imgs, valid_X, valid_y, device)\n",
    "    print(\"Epoch\", i, 'valid', f'loss={vloss:.5f}', f'acc={vacc:.5f}', flush=True)\n",
    "    tloss, tacc = eval(model, test_imgs, test_X, test_y, device)\n",
    "    print(\"Epoch\", i, 'test', f'loss={tloss:.5f}', f'acc={tacc:.5f}', flush=True)\n",
    "    histories['val'].append((vloss, vacc))\n",
    "    histories['test'].append((tloss, tacc))"
   ]
  },
  {
   "cell_type": "code",
   "execution_count": 90,
   "metadata": {},
   "outputs": [
    {
     "data": {
      "text/plain": [
       "[<matplotlib.lines.Line2D at 0x7f8a581b7240>]"
      ]
     },
     "execution_count": 90,
     "metadata": {},
     "output_type": "execute_result"
    },
    {
     "data": {
      "image/png": "[encoded data removed]",
      "text/plain": [
       "<Figure size 432x288 with 1 Axes>"
      ]
     },
     "metadata": {
      "needs_background": "light"
     },
     "output_type": "display_data"
    }
   ],
   "source": [
    "loss_train = [x.item() for x in histories['train']]\n",
    "plt.plot(loss_train)"
   ]
  },
  {
   "cell_type": "code",
   "execution_count": 60,
   "metadata": {},
   "outputs": [],
   "source": [
    "img = torch.tensor([test_imgs[0]], dtype=torch.float32, device=device)"
   ]
  },
  {
   "cell_type": "code",
   "execution_count": 61,
   "metadata": {},
   "outputs": [
    {
     "data": {
      "text/plain": [
       "torch.Size([1, 3, 150, 240])"
      ]
     },
     "execution_count": 61,
     "metadata": {},
     "output_type": "execute_result"
    }
   ],
   "source": [
    "img.shape"
   ]
  },
  {
   "cell_type": "code",
   "execution_count": 14,
   "metadata": {},
   "outputs": [
    {
     "data": {
      "text/plain": [
       "{'<pad>': 0,\n",
       " '<div class=\"row\">': 1,\n",
       " '<div class=\"col-12\">': 2,\n",
       " '<div class=\"col-6\">': 3,\n",
       " '<div class=\"col-4\">': 4,\n",
       " '<div class=\"col-3\">': 5,\n",
       " '<div class=\"container-fluid\">': 6,\n",
       " '<div class=\"grey-background\">': 7,\n",
       " '</div>': 8,\n",
       " '<button class=\"btn btn-danger\">': 9,\n",
       " '<button class=\"btn btn-warning\">': 10,\n",
       " '<button class=\"btn btn-success\">': 11,\n",
       " '</button>': 12}"
      ]
     },
     "execution_count": 14,
     "metadata": {},
     "output_type": "execute_result"
    }
   ],
   "source": [
    "vocab"
   ]
  },
  {
   "cell_type": "code",
   "execution_count": 62,
   "metadata": {},
   "outputs": [
    {
     "data": {
      "text/plain": [
       "<matplotlib.image.AxesImage at 0x7f8a884976a0>"
      ]
     },
     "execution_count": 62,
     "metadata": {},
     "output_type": "execute_result"
    },
    {
     "data": {
      "image/png": "[encoded data removed]",
      "text/plain": [
       "<Figure size 432x288 with 1 Axes>"
      ]
     },
     "metadata": {
      "needs_background": "light"
     },
     "output_type": "display_data"
    }
   ],
   "source": [
    "plt.imshow(1 - img[0].permute(1, 2, 0).cpu().numpy())"
   ]
  },
  {
   "cell_type": "code",
   "execution_count": 40,
   "metadata": {},
   "outputs": [
    {
     "data": {
      "text/plain": [
       "torch.Size([12, 13])"
      ]
     },
     "execution_count": 40,
     "metadata": {},
     "output_type": "execute_result"
    }
   ],
   "source": [
    "y_pred.shape"
   ]
  },
  {
   "cell_type": "code",
   "execution_count": 44,
   "metadata": {},
   "outputs": [],
   "source": [
    "render_engine = RemoteRenderEngine.get_instance(tags[0].to_html(), 480, 300)"
   ]
  },
  {
   "cell_type": "code",
   "execution_count": 79,
   "metadata": {},
   "outputs": [],
   "source": [
    "def gen_program(img: torch.tensor):\n",
    "    dsl_prog = LinearizedTag.default()\n",
    "    program = [vocab['<div class=\"container-fluid\">']]\n",
    "    dsl_prog.add_tag_and_class('div', ('container-fluid',))\n",
    "\n",
    "    for i in range(50):\n",
    "        y_pred = model(torch.tensor([img], dtype=torch.float32, device=device), \n",
    "                       torch.tensor([program], dtype=torch.long, device=device), \n",
    "                       torch.tensor([len(program)], dtype=torch.long, device=device))\n",
    "        next_token = torch.argmax(y_pred, dim=1)[-1].item()\n",
    "        program.append(next_token)\n",
    "\n",
    "        next_token = ivocab[next_token]\n",
    "        if next_token.startswith(\"</\"):\n",
    "            # TODO: fix me\n",
    "            dsl_prog.add_close_tag()\n",
    "        else:\n",
    "            match = LinearizedTag.tag_reg.match(next_token)\n",
    "            dsl_prog.add_tag_and_class(match.group(1), tuple(match.group(2).split(\" \")))\n",
    "\n",
    "        if len(dsl_prog.opening_tags) == 0:\n",
    "            break\n",
    "        \n",
    "    genimg = render_engine.render_page(dsl_prog)\n",
    "    genimg = shrink_img(norm_rgb_imgs(genimg), 0.5)\n",
    "    \n",
    "    quality = (genimg == img.transpose((1, 2, 0))).sum() / np.prod(genimg.shape)\n",
    "    return genimg, quality\n",
    "#     plt.imshow(1 - genimg)"
   ]
  },
  {
   "cell_type": "code",
   "execution_count": 85,
   "metadata": {},
   "outputs": [
    {
     "name": "stderr",
     "output_type": "stream",
     "text": [
      "100%|██████████| 250/250 [02:21<00:00,  1.69it/s]\n"
     ]
    }
   ],
   "source": [
    "outputs = []\n",
    "\n",
    "for img in tqdm(images[1500:]):\n",
    "    gen_img, quality = gen_program(img)\n",
    "    outputs.append((gen_img, quality))\n",
    "# plt.imshow(1 - genimg)"
   ]
  },
  {
   "cell_type": "code",
   "execution_count": 88,
   "metadata": {},
   "outputs": [
    {
     "name": "stdout",
     "output_type": "stream",
     "text": [
      "quality 0.6670621481481481\n",
      "best image 0.8134907407407408\n"
     ]
    },
    {
     "data": {
      "text/plain": [
       "<matplotlib.image.AxesImage at 0x7f8a58179eb8>"
      ]
     },
     "execution_count": 88,
     "metadata": {},
     "output_type": "execute_result"
    },
    {
     "data": {
      "image/png": "[encoded data removed]",
      "text/plain": [
       "<Figure size 432x288 with 1 Axes>"
      ]
     },
     "metadata": {
      "needs_background": "light"
     },
     "output_type": "display_data"
    }
   ],
   "source": [
    "print('quality', np.mean([x[1] for x in outputs]))\n",
    "idx, (genimg, quality) = max(enumerate(outputs), key=lambda x: x[1][1])\n",
    "print('best image', quality)\n",
    "a = viz_grid(np.stack([\n",
    "    1 - images[1500:][idx].transpose((1, 2, 0)),\n",
    "    1 - genimg\n",
    "], axis=0))\n",
    "plt.imshow(a)"
   ]
  }
 ],
 "metadata": {
  "kernelspec": {
   "display_name": "sketch2code",
   "language": "python",
   "name": "sketch2code"
  },
  "language_info": {
   "codemirror_mode": {
    "name": "ipython",
    "version": 3
   },
   "file_extension": ".py",
   "mimetype": "text/x-python",
   "name": "python",
   "nbconvert_exporter": "python",
   "pygments_lexer": "ipython3",
   "version": "3.7.3"
  }
 },
 "nbformat": 4,
 "nbformat_minor": 2
}
