{
 "cells": [
  {
   "cell_type": "code",
   "execution_count": 2,
   "metadata": {},
   "outputs": [
    {
     "name": "stdout",
     "output_type": "stream",
     "text": [
      "The autoreload extension is already loaded. To reload it, use:\n",
      "  %reload_ext autoreload\n"
     ]
    }
   ],
   "source": [
    "import cv2\n",
    "import torch\n",
    "import h5py\n",
    "import numpy as np\n",
    "import imageio\n",
    "from tqdm.autonotebook import tqdm\n",
    "import matplotlib.pyplot as plt\n",
    "import time\n",
    "import tensorflow as tf\n",
    "from collections import defaultdict\n",
    "\n",
    "%matplotlib inline\n",
    "plt.rcParams[\"figure.figsize\"] = (10.0, 8.0) # set default size of plots\n",
    "plt.rcParams[\"image.interpolation\"] = \"nearest\"\n",
    "plt.rcParams[\"image.cmap\"] = \"gray\"\n",
    "\n",
    "%load_ext autoreload\n",
    "%autoreload 2"
   ]
  },
  {
   "cell_type": "code",
   "execution_count": 16,
   "metadata": {},
   "outputs": [],
   "source": [
    "%reload_ext autoreload\n",
    "\n",
    "from sketch2code.config import *\n",
    "from tensorboardX import SummaryWriter"
   ]
  },
  {
   "cell_type": "code",
   "execution_count": 14,
   "metadata": {},
   "outputs": [],
   "source": [
    "def read_data(dpath):\n",
    "    files = [file for file in dpath.iterdir() if file.name.startswith(\"events.\")]\n",
    "    assert len(files) == 1\n",
    "    \n",
    "    data = {\n",
    "        \"valid/loss\": [], \"valid/top_1_acc\": [],\n",
    "        \"test/loss\": [], \"test/top_1_acc\": [] ,\n",
    "    }\n",
    "    \n",
    "    for e in tf.train.summary_iterator(str(files[0])):\n",
    "        for v in e.summary.value:\n",
    "            if v.tag in data:\n",
    "                data[v.tag].append(v.simple_value)\n",
    "    return data\n",
    "\n",
    "ed1 = read_data(ROOT_DIR / \"runs/exp/ed1\")\n",
    "ed2 = read_data(ROOT_DIR / \"runs/exp/ed2\")\n",
    "ed3 = read_data(ROOT_DIR / \"runs/exp/ed3\")"
   ]
  },
  {
   "cell_type": "code",
   "execution_count": 19,
   "metadata": {},
   "outputs": [],
   "source": [
    "def write_data(ed, name):\n",
    "    log_dir = ROOT_DIR / f\"runs/exp/{name}\"\n",
    "    log_dir.mkdir()\n",
    "    writer = SummaryWriter(log_dir=str(log_dir))\n",
    "    for k, values in ed.items():\n",
    "        for i, v in enumerate(values):\n",
    "            writer.add_scalar(k, v, i)\n",
    "    writer.close()\n",
    "\n",
    "write_data(ed1, 'ed1')\n",
    "write_data(ed2, 'ed2')\n",
    "write_data(ed3, 'ed3')"
   ]
  },
  {
   "cell_type": "code",
   "execution_count": null,
   "metadata": {},
   "outputs": [],
   "source": []
  }
 ],
 "metadata": {
  "kernelspec": {
   "display_name": "sketch2code",
   "language": "python",
   "name": "sketch2code"
  },
  "language_info": {
   "codemirror_mode": {
    "name": "ipython",
    "version": 3
   },
   "file_extension": ".py",
   "mimetype": "text/x-python",
   "name": "python",
   "nbconvert_exporter": "python",
   "pygments_lexer": "ipython3",
   "version": "3.7.1"
  }
 },
 "nbformat": 4,
 "nbformat_minor": 2
}
