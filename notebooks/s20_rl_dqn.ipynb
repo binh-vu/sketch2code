{
 "cells": [
  {
   "cell_type": "code",
   "execution_count": 1,
   "metadata": {},
   "outputs": [
    {
     "name": "stderr",
     "output_type": "stream",
     "text": [
      "/home/rook/.local/share/virtualenvs/sketch2code-rS5pvLAN/lib/python3.7/site-packages/tqdm/autonotebook/__init__.py:14: TqdmExperimentalWarning: Using `tqdm.autonotebook.tqdm` in notebook mode. Use `tqdm.tqdm` instead to force console mode (e.g. in jupyter console)\n",
      "  \" (e.g. in jupyter console)\", TqdmExperimentalWarning)\n"
     ]
    }
   ],
   "source": [
    "import cv2\n",
    "import torch\n",
    "from tensorboardX import SummaryWriter\n",
    "import h5py\n",
    "import numpy as np\n",
    "import imageio\n",
    "from tqdm.autonotebook import tqdm\n",
    "import matplotlib.pyplot as plt\n",
    "import time\n",
    "from collections import defaultdict\n",
    "\n",
    "%matplotlib inline\n",
    "plt.rcParams[\"figure.figsize\"] = (10.0, 8.0) # set default size of plots\n",
    "plt.rcParams[\"image.interpolation\"] = \"nearest\"\n",
    "plt.rcParams[\"image.cmap\"] = \"gray\"\n",
    "\n",
    "%load_ext autoreload\n",
    "%autoreload 2"
   ]
  },
  {
   "cell_type": "code",
   "execution_count": 2,
   "metadata": {},
   "outputs": [],
   "source": [
    "%reload_ext autoreload\n",
    "\n",
    "from sketch2code.data_model import *\n",
    "from sketch2code.datasets import *\n",
    "from sketch2code.helpers import *\n",
    "from sketch2code.synthesize_program import *\n",
    "from sketch2code.visualization import *\n",
    "from s2x_rl_dqn import *\n",
    "from s20_rl_dqn import *"
   ]
  },
  {
   "cell_type": "code",
   "execution_count": 3,
   "metadata": {},
   "outputs": [
    {
     "data": {
      "text/plain": [
       "device(type='cuda')"
      ]
     },
     "execution_count": 3,
     "metadata": {},
     "output_type": "execute_result"
    }
   ],
   "source": [
    "device = torch.device(\"cuda\" if torch.cuda.is_available() else \"cpu\")\n",
    "device"
   ]
  },
  {
   "cell_type": "code",
   "execution_count": 4,
   "metadata": {},
   "outputs": [
    {
     "name": "stdout",
     "output_type": "stream",
     "text": [
      "#examples 1750\n",
      "#examples 1250\n",
      "#examples 250\n",
      "#examples 250\n"
     ]
    },
    {
     "data": {
      "image/png": "[encoded data removed]",
      "text/plain": [
       "<Figure size 432x288 with 1 Axes>"
      ]
     },
     "metadata": {
      "needs_background": "light"
     },
     "output_type": "display_data"
    }
   ],
   "source": [
    "tags, oimages = load_dataset(\"toy\")\n",
    "print(\"#examples\", len(tags))\n",
    "\n",
    "def preprocess_img():\n",
    "    global oimages\n",
    "    return [shrink_img(img, 0.4, cv2.INTER_NEAREST) for img in norm_rgb_imgs(oimages[:])]\n",
    "\n",
    "images = cache_object(\"toy.shrink.imgs.without_transpose\", preprocess_img)\n",
    "plt.imshow(1 - images[0])\n",
    "\n",
    "vocab, ivocab = make_toy_vocab_v1()\n",
    "train_examples, valid_examples, test_examples = get_toy_dataset_v1(tags, vocab)"
   ]
  },
  {
   "cell_type": "code",
   "execution_count": 5,
   "metadata": {},
   "outputs": [],
   "source": [
    "render_engine = RemoteRenderEngine.get_instance(tags[0].to_html(), viewport_width=oimages[0].shape[1], viewport_height=oimages[0].shape[0], full_page=False)"
   ]
  },
  {
   "cell_type": "code",
   "execution_count": 6,
   "metadata": {},
   "outputs": [],
   "source": [
    "# TODO: uncomment to use GPU\n",
    "# images = torch.tensor(images, device=device)\n",
    "torch_images = torch.tensor(images).permute((0, 3, 1, 2))"
   ]
  },
  {
   "cell_type": "code",
   "execution_count": 7,
   "metadata": {},
   "outputs": [],
   "source": [
    "env_creator = EnvCreator(render_engine, tags, vocab, images, shrink_factor=0.4, interpolation=cv2.INTER_NEAREST, device=device)"
   ]
  },
  {
   "cell_type": "code",
   "execution_count": 8,
   "metadata": {},
   "outputs": [
    {
     "data": {
      "text/plain": [
       "<matplotlib.image.AxesImage at 0x7fa483499358>"
      ]
     },
     "execution_count": 8,
     "metadata": {},
     "output_type": "execute_result"
    },
    {
     "data": {
      "image/png": "[encoded data removed]",
      "text/plain": [
       "<Figure size 432x288 with 1 Axes>"
      ]
     },
     "metadata": {
      "needs_background": "light"
     },
     "output_type": "display_data"
    }
   ],
   "source": [
    "envs = [Env(env_creator, 0)]\n",
    "plt.imshow(1 - envs[0].render())"
   ]
  },
  {
   "cell_type": "code",
   "execution_count": 9,
   "metadata": {},
   "outputs": [],
   "source": [
    "env = envs[0]\n",
    "reward_func = RewardFunc(env.get_target_state())\n",
    "env.set_reward_func(reward_func.reward, reward_func.max_reward)"
   ]
  },
  {
   "cell_type": "code",
   "execution_count": 10,
   "metadata": {},
   "outputs": [
    {
     "data": {
      "text/plain": [
       "{'env_creator': <s2x_rl_dqn.EnvCreator at 0x7fa489dc6c18>,\n",
       " 'env_idx': 0,\n",
       " 'obs': <s2x_rl_dqn.Observation at 0x7fa489db4c88>,\n",
       " 'abs_reward': 0,\n",
       " 'max_abs_reward': 14208,\n",
       " 'reward_func': <bound method RewardFunc.reward of <s20_rl_dqn.RewardFunc object at 0x7fa4834c4710>>,\n",
       " 'invalid_action_penalty': -10}"
      ]
     },
     "execution_count": 10,
     "metadata": {},
     "output_type": "execute_result"
    }
   ],
   "source": [
    "env.__dict__"
   ]
  },
  {
   "cell_type": "markdown",
   "metadata": {},
   "source": [
    "# Train DQN"
   ]
  },
  {
   "cell_type": "code",
   "execution_count": 11,
   "metadata": {},
   "outputs": [
    {
     "name": "stdout",
     "output_type": "stream",
     "text": [
      "n_action: 12 , |dsl_vocab|: 15\n"
     ]
    }
   ],
   "source": [
    "g = Placeholder()\n",
    "g.MAX_EPS_LEN = 10\n",
    "\n",
    "g.BATCH_SIZE = 50\n",
    "g.GAMMA = 0.999\n",
    "g.EPS_START = 0.9\n",
    "g.EPS_END = 0.05\n",
    "g.EPS_DECAY = 10000\n",
    "g.TARGET_UPDATE = 10  # per eps\n",
    "g.POLICY_UPDATE = 10  # per actions\n",
    "\n",
    "g.IMG_REPR_SIZE = 512\n",
    "g.DSL_EMBED_DIM = 100\n",
    "g.DSL_HIDDEN_DIM = 512\n",
    "\n",
    "g.dsl_vocab = env_creator.vocab\n",
    "g.n_actions = len(env_creator.actions)\n",
    "print(\"n_action:\", g.n_actions, \", |dsl_vocab|:\", len(g.dsl_vocab))"
   ]
  },
  {
   "cell_type": "code",
   "execution_count": 31,
   "metadata": {},
   "outputs": [
    {
     "data": {
      "text/plain": [
       "DQN(\n",
       "  (encoder): EncoderV1(\n",
       "    (conv1): Conv2d(3, 16, kernel_size=(7, 7), stride=(1, 1))\n",
       "    (bn1): BatchNorm2d(16, eps=1e-05, momentum=0.9, affine=True, track_running_stats=True)\n",
       "    (pool1): MaxPool2d(kernel_size=3, stride=2, padding=0, dilation=1, ceil_mode=False)\n",
       "    (conv2): Conv2d(16, 32, kernel_size=(5, 5), stride=(1, 1))\n",
       "    (bn2): BatchNorm2d(32, eps=1e-05, momentum=0.9, affine=True, track_running_stats=True)\n",
       "    (pool2): MaxPool2d(kernel_size=3, stride=2, padding=0, dilation=1, ceil_mode=False)\n",
       "    (conv3): Conv2d(32, 64, kernel_size=(5, 5), stride=(1, 1))\n",
       "    (bn3): BatchNorm2d(64, eps=1e-05, momentum=0.9, affine=True, track_running_stats=True)\n",
       "    (pool3): MaxPool2d(kernel_size=3, stride=2, padding=0, dilation=1, ceil_mode=False)\n",
       "    (fc1): Linear(in_features=12160, out_features=512, bias=True)\n",
       "  )\n",
       "  (decoder): ActionDecoder(\n",
       "    (word_embedding): Embedding(15, 100, padding_idx=0)\n",
       "    (lstm): LSTMNoEmbedding(\n",
       "      (lstm): LSTM(612, 512, batch_first=True)\n",
       "    )\n",
       "    (lstm2action): Linear(in_features=512, out_features=12, bias=True)\n",
       "  )\n",
       ")"
      ]
     },
     "execution_count": 31,
     "metadata": {},
     "output_type": "execute_result"
    }
   ],
   "source": [
    "policy_q = DQN(\n",
    "    EncoderV1(img_h=images[0].shape[0], img_w=images[0].shape[1], img_repr_size=g.IMG_REPR_SIZE), \n",
    "    ActionDecoder(g.IMG_REPR_SIZE, dsl_vocab=vocab, dsl_embedding_dim=g.DSL_EMBED_DIM, dsl_hidden_dim=g.DSL_HIDDEN_DIM, n_actions=g.n_actions)).to(device)\n",
    "target_q = DQN(\n",
    "    EncoderV1(img_h=images[0].shape[0], img_w=images[0].shape[1], img_repr_size=g.IMG_REPR_SIZE), \n",
    "    ActionDecoder(g.IMG_REPR_SIZE, dsl_vocab=vocab, dsl_embedding_dim=g.DSL_EMBED_DIM, dsl_hidden_dim=g.DSL_HIDDEN_DIM, n_actions=g.n_actions)).to(device)\n",
    "target_q.load_state_dict(policy_q.state_dict())\n",
    "target_q.eval()"
   ]
  },
  {
   "cell_type": "code",
   "execution_count": 33,
   "metadata": {},
   "outputs": [
    {
     "data": {
      "application/vnd.jupyter.widget-view+json": {
       "model_id": "0860f7ae1d6a4464a0a690898cb6e75b",
       "version_major": 2,
       "version_minor": 0
      },
      "text/plain": [
       "HBox(children=(IntProgress(value=0, description='eps', max=10, style=ProgressStyle(description_width='initial'…"
      ]
     },
     "metadata": {},
     "output_type": "display_data"
    },
    {
     "data": {
      "application/vnd.jupyter.widget-view+json": {
       "model_id": "9216c1a79edf4336bfc3a79f7a83e00a",
       "version_major": 2,
       "version_minor": 0
      },
      "text/plain": [
       "HBox(children=(IntProgress(value=0, description='actions', style=ProgressStyle(description_width='initial')), …"
      ]
     },
     "metadata": {},
     "output_type": "display_data"
    },
    {
     "name": "stdout",
     "output_type": "stream",
     "text": [
      "\n"
     ]
    }
   ],
   "source": [
    "optimizer = torch.optim.RMSprop(policy_q.parameters())\n",
    "memory = ReplayMemory(50)\n",
    "\n",
    "g.step_done = 0\n",
    "num_episodes = 10\n",
    "accum_rewards = []\n",
    "accum_done = []\n",
    "\n",
    "log_dir = inc_folder_no(ROOT_DIR / \"runs\" / \"s20_exp\" / \"run_\")\n",
    "writer = SummaryWriter(log_dir=log_dir)\n",
    "\n",
    "\n",
    "with tqdm(range(num_episodes), desc='eps') as ebar, tqdm(total=num_episodes * g.MAX_EPS_LEN, desc='actions') as pbar:\n",
    "    for i_episode in ebar:\n",
    "        # Initialize the environment and state\n",
    "        env.reset()\n",
    "        accum_rewards.append([])\n",
    "\n",
    "        for i in range(g.MAX_EPS_LEN):\n",
    "            pbar.update()\n",
    "            obs = env.obs\n",
    "            action = select_action(policy_q, env_creator, obs, torch_images, g, device)\n",
    "            next_obs, reward, done, _ = env.step(action)    \n",
    "\n",
    "            accum_rewards[-1].append(reward)\n",
    "            \n",
    "            # Store the transition in memory\n",
    "            memory.push(Transition(env.env_idx, obs, next_obs, action.action_id, env.abs_reward, reward, int(done)))\n",
    "            # Perform one step of the optimization (on the target network)\n",
    "            \n",
    "            if len(memory) >= g.BATCH_SIZE:\n",
    "                loss = train(policy_q, target_q, F.smooth_l1_loss, optimizer, env_creator, memory.sample(g.BATCH_SIZE), torch_images, g, device)\n",
    "            \n",
    "            if len(memory) == memory.capacity:\n",
    "                break\n",
    "                \n",
    "            if done:\n",
    "                break\n",
    "        \n",
    "        if len(memory.memory) == memory.capacity:\n",
    "            break\n",
    "        \n",
    "        writer.add_scalar('avg_eps_reward', np.mean(accum_rewards[-1]), i_episode)\n",
    "        accum_done.append(done)\n",
    "        ebar.set_postfix(avg_gain=np.mean(accum_rewards[-1]), reward=env.abs_reward)\n",
    "\n",
    "        # Update the target network, copying all weights and biases in DQN\n",
    "        if i_episode % g.TARGET_UPDATE == 0:\n",
    "            target_q.load_state_dict(policy_q.state_dict())\n",
    "            \n",
    "writer.close()"
   ]
  },
  {
   "cell_type": "code",
   "execution_count": 325,
   "metadata": {},
   "outputs": [],
   "source": [
    "memory = ReplayMemory(500)"
   ]
  },
  {
   "cell_type": "code",
   "execution_count": 24,
   "metadata": {},
   "outputs": [
    {
     "data": {
      "text/plain": [
       "[(0,\n",
       "  0.361768018018018,\n",
       "  0.361768018018018,\n",
       "  ['<button class=\"btn btn-danger\">']),\n",
       " (1,\n",
       "  0.3216497747747748,\n",
       "  0.0,\n",
       "  ['<div class=\"col-4\">',\n",
       "   '<div class=\"col-6\">',\n",
       "   '<div class=\"col-12\">',\n",
       "   '<button class=\"btn btn-success\">',\n",
       "   '<div class=\"col-3\">',\n",
       "   '<button class=\"btn btn-danger\">']),\n",
       " (2,\n",
       "  0.361768018018018,\n",
       "  0.0,\n",
       "  ['<button class=\"btn btn-danger\">', '<div class=\"grey-background\">']),\n",
       " (3,\n",
       "  0.3216497747747748,\n",
       "  0.0,\n",
       "  ['<div class=\"col-4\">',\n",
       "   '<div class=\"col-6\">',\n",
       "   '<div class=\"col-12\">',\n",
       "   '<button class=\"btn btn-success\">',\n",
       "   '<div class=\"col-3\">']),\n",
       " (4,\n",
       "  0.1710304054054054,\n",
       "  -0.15484234234234232,\n",
       "  ['<div class=\"col-4\">',\n",
       "   '<button class=\"btn btn-danger\">',\n",
       "   '</button>',\n",
       "   '<button class=\"btn btn-danger\">'])]"
      ]
     },
     "execution_count": 24,
     "metadata": {},
     "output_type": "execute_result"
    }
   ],
   "source": [
    "total_reward = sum([x.abs_reward for x in memory.memory])\n",
    "idx = np.random.choice(range(len(memory.memory)), 5, replace=False, p=[x.abs_reward / total_reward for x in memory.memory])\n",
    "batches = [memory.memory[i] for i in idx]\n",
    "\n",
    "[(i, p.abs_reward, p.reward, list(p.next_state.tag.str_tokens)) for i, p in enumerate(batches)]"
   ]
  },
  {
   "cell_type": "code",
   "execution_count": 19,
   "metadata": {},
   "outputs": [
    {
     "data": {
      "text/plain": [
       "[(0, 0.0, 0.0, ['<div class=\"col-4\">']),\n",
       " (1, 0.0, 0.0, ['<div class=\"col-4\">', '<div class=\"col-6\">']),\n",
       " (2,\n",
       "  0.0,\n",
       "  0.0,\n",
       "  ['<div class=\"col-4\">', '<div class=\"col-6\">', '<div class=\"col-12\">']),\n",
       " (3,\n",
       "  0.3216497747747748,\n",
       "  0.3216497747747748,\n",
       "  ['<div class=\"col-4\">',\n",
       "   '<div class=\"col-6\">',\n",
       "   '<div class=\"col-12\">',\n",
       "   '<button class=\"btn btn-success\">']),\n",
       " (4,\n",
       "  0.3216497747747748,\n",
       "  0.0,\n",
       "  ['<div class=\"col-4\">',\n",
       "   '<div class=\"col-6\">',\n",
       "   '<div class=\"col-12\">',\n",
       "   '<button class=\"btn btn-success\">',\n",
       "   '<div class=\"col-3\">']),\n",
       " (5,\n",
       "  0.3216497747747748,\n",
       "  0.0,\n",
       "  ['<div class=\"col-4\">',\n",
       "   '<div class=\"col-6\">',\n",
       "   '<div class=\"col-12\">',\n",
       "   '<button class=\"btn btn-success\">',\n",
       "   '<div class=\"col-3\">',\n",
       "   '<button class=\"btn btn-danger\">']),\n",
       " (6,\n",
       "  0.3216497747747748,\n",
       "  0.0,\n",
       "  ['<div class=\"col-4\">',\n",
       "   '<div class=\"col-6\">',\n",
       "   '<div class=\"col-12\">',\n",
       "   '<button class=\"btn btn-success\">',\n",
       "   '<div class=\"col-3\">']),\n",
       " (7,\n",
       "  0.3216497747747748,\n",
       "  0.0,\n",
       "  ['<div class=\"col-4\">',\n",
       "   '<div class=\"col-6\">',\n",
       "   '<div class=\"col-12\">',\n",
       "   '<button class=\"btn btn-success\">',\n",
       "   '<div class=\"col-3\">',\n",
       "   '<button class=\"btn btn-success\">']),\n",
       " (8,\n",
       "  0.3216497747747748,\n",
       "  0.0,\n",
       "  ['<div class=\"col-4\">',\n",
       "   '<div class=\"col-6\">',\n",
       "   '<div class=\"col-12\">',\n",
       "   '<button class=\"btn btn-success\">',\n",
       "   '<div class=\"col-3\">',\n",
       "   '<button class=\"btn btn-success\">',\n",
       "   '<div class=\"col-4\">']),\n",
       " (9,\n",
       "  0.3216497747747748,\n",
       "  0.0,\n",
       "  ['<div class=\"col-4\">',\n",
       "   '<div class=\"col-6\">',\n",
       "   '<div class=\"col-12\">',\n",
       "   '<button class=\"btn btn-success\">',\n",
       "   '<div class=\"col-3\">',\n",
       "   '<button class=\"btn btn-success\">',\n",
       "   '<div class=\"col-4\">',\n",
       "   '<div class=\"row\">']),\n",
       " (10,\n",
       "  0.361768018018018,\n",
       "  0.361768018018018,\n",
       "  ['<button class=\"btn btn-danger\">']),\n",
       " (11,\n",
       "  0.361768018018018,\n",
       "  0.0,\n",
       "  ['<button class=\"btn btn-danger\">', '<div class=\"grey-background\">']),\n",
       " (12,\n",
       "  0.18862612612612614,\n",
       "  -0.17314189189189186,\n",
       "  ['<button class=\"btn btn-danger\">',\n",
       "   '<div class=\"grey-background\">',\n",
       "   '<button class=\"btn btn-danger\">']),\n",
       " (13,\n",
       "  0.11331644144144144,\n",
       "  -0.0753096846846847,\n",
       "  ['<button class=\"btn btn-danger\">',\n",
       "   '<div class=\"grey-background\">',\n",
       "   '<button class=\"btn btn-danger\">',\n",
       "   '<button class=\"btn btn-danger\">']),\n",
       " (14,\n",
       "  0.11331644144144144,\n",
       "  0.0,\n",
       "  ['<button class=\"btn btn-danger\">',\n",
       "   '<div class=\"grey-background\">',\n",
       "   '<button class=\"btn btn-danger\">',\n",
       "   '<button class=\"btn btn-danger\">',\n",
       "   '<div class=\"grey-background\">']),\n",
       " (15,\n",
       "  0.0731981981981982,\n",
       "  -0.04011824324324324,\n",
       "  ['<button class=\"btn btn-danger\">',\n",
       "   '<div class=\"grey-background\">',\n",
       "   '<button class=\"btn btn-danger\">',\n",
       "   '<button class=\"btn btn-danger\">',\n",
       "   '<div class=\"grey-background\">',\n",
       "   '<button class=\"btn btn-danger\">']),\n",
       " (16,\n",
       "  0.05278716216216216,\n",
       "  -0.020411036036036043,\n",
       "  ['<button class=\"btn btn-danger\">',\n",
       "   '<div class=\"grey-background\">',\n",
       "   '<button class=\"btn btn-danger\">',\n",
       "   '<button class=\"btn btn-danger\">',\n",
       "   '<div class=\"grey-background\">',\n",
       "   '<button class=\"btn btn-danger\">',\n",
       "   '<button class=\"btn btn-success\">']),\n",
       " (17,\n",
       "  0.05278716216216216,\n",
       "  0.0,\n",
       "  ['<button class=\"btn btn-danger\">',\n",
       "   '<div class=\"grey-background\">',\n",
       "   '<button class=\"btn btn-danger\">',\n",
       "   '<button class=\"btn btn-danger\">',\n",
       "   '<div class=\"grey-background\">',\n",
       "   '<button class=\"btn btn-danger\">',\n",
       "   '<button class=\"btn btn-success\">',\n",
       "   '<div class=\"col-3\">']),\n",
       " (18,\n",
       "  0.033783783783783786,\n",
       "  -0.01900337837837837,\n",
       "  ['<button class=\"btn btn-danger\">',\n",
       "   '<div class=\"grey-background\">',\n",
       "   '<button class=\"btn btn-danger\">',\n",
       "   '<button class=\"btn btn-danger\">',\n",
       "   '<div class=\"grey-background\">',\n",
       "   '<button class=\"btn btn-danger\">',\n",
       "   '<button class=\"btn btn-success\">',\n",
       "   '<div class=\"col-3\">',\n",
       "   '<button class=\"btn btn-danger\">']),\n",
       " (19,\n",
       "  0.015484234234234234,\n",
       "  -0.01829954954954955,\n",
       "  ['<button class=\"btn btn-danger\">',\n",
       "   '<div class=\"grey-background\">',\n",
       "   '<button class=\"btn btn-danger\">',\n",
       "   '<button class=\"btn btn-danger\">',\n",
       "   '<div class=\"grey-background\">',\n",
       "   '<button class=\"btn btn-danger\">',\n",
       "   '<button class=\"btn btn-success\">',\n",
       "   '<div class=\"col-3\">',\n",
       "   '<button class=\"btn btn-danger\">',\n",
       "   '<button class=\"btn btn-warning\">']),\n",
       " (20, 0.0, 0.0, ['<div class=\"col-3\">']),\n",
       " (21, 0.0, 0.0, []),\n",
       " (22, 0.0, 0.0, ['<div class=\"row\">']),\n",
       " (23, 0.0, 0.0, ['<div class=\"row\">', '<div class=\"grey-background\">']),\n",
       " (24,\n",
       "  0.0,\n",
       "  0.0,\n",
       "  ['<div class=\"row\">', '<div class=\"grey-background\">', '<div class=\"row\">']),\n",
       " (25,\n",
       "  0.5433558558558559,\n",
       "  0.5433558558558559,\n",
       "  ['<div class=\"row\">',\n",
       "   '<div class=\"grey-background\">',\n",
       "   '<div class=\"row\">',\n",
       "   '<button class=\"btn btn-success\">']),\n",
       " (26,\n",
       "  0.5933277027027027,\n",
       "  0.04997184684684686,\n",
       "  ['<div class=\"row\">',\n",
       "   '<div class=\"grey-background\">',\n",
       "   '<div class=\"row\">',\n",
       "   '<button class=\"btn btn-success\">',\n",
       "   '<button class=\"btn btn-danger\">']),\n",
       " (27,\n",
       "  0.5933277027027027,\n",
       "  0.0,\n",
       "  ['<div class=\"row\">',\n",
       "   '<div class=\"grey-background\">',\n",
       "   '<div class=\"row\">',\n",
       "   '<button class=\"btn btn-success\">',\n",
       "   '<button class=\"btn btn-danger\">',\n",
       "   '<div class=\"grey-background\">']),\n",
       " (28,\n",
       "  0.5933277027027027,\n",
       "  0.0,\n",
       "  ['<div class=\"row\">',\n",
       "   '<div class=\"grey-background\">',\n",
       "   '<div class=\"row\">',\n",
       "   '<button class=\"btn btn-success\">',\n",
       "   '<button class=\"btn btn-danger\">',\n",
       "   '<div class=\"grey-background\">',\n",
       "   '<div class=\"container-fluid\">']),\n",
       " (29,\n",
       "  0.5933277027027027,\n",
       "  0.0,\n",
       "  ['<div class=\"row\">',\n",
       "   '<div class=\"grey-background\">',\n",
       "   '<div class=\"row\">',\n",
       "   '<button class=\"btn btn-success\">',\n",
       "   '<button class=\"btn btn-danger\">',\n",
       "   '<div class=\"grey-background\">',\n",
       "   '<div class=\"container-fluid\">',\n",
       "   '<div class=\"grey-background\">']),\n",
       " (30, 0.0, 0.0, ['<div class=\"col-4\">']),\n",
       " (31, 0.0, 0.0, ['<div class=\"col-4\">', '<div class=\"col-3\">']),\n",
       " (32,\n",
       "  0.0,\n",
       "  0.0,\n",
       "  ['<div class=\"col-4\">', '<div class=\"col-3\">', '<div class=\"col-12\">']),\n",
       " (33,\n",
       "  0.0,\n",
       "  0.0,\n",
       "  ['<div class=\"col-4\">',\n",
       "   '<div class=\"col-3\">',\n",
       "   '<div class=\"col-12\">',\n",
       "   '<div class=\"col-6\">']),\n",
       " (34,\n",
       "  0.3216497747747748,\n",
       "  0.3216497747747748,\n",
       "  ['<div class=\"col-4\">',\n",
       "   '<div class=\"col-3\">',\n",
       "   '<div class=\"col-12\">',\n",
       "   '<div class=\"col-6\">',\n",
       "   '<button class=\"btn btn-success\">']),\n",
       " (35,\n",
       "  0.3216497747747748,\n",
       "  0.0,\n",
       "  ['<div class=\"col-4\">',\n",
       "   '<div class=\"col-3\">',\n",
       "   '<div class=\"col-12\">',\n",
       "   '<div class=\"col-6\">',\n",
       "   '<button class=\"btn btn-success\">',\n",
       "   '<button class=\"btn btn-warning\">']),\n",
       " (36,\n",
       "  0.3216497747747748,\n",
       "  0.0,\n",
       "  ['<div class=\"col-4\">',\n",
       "   '<div class=\"col-3\">',\n",
       "   '<div class=\"col-12\">',\n",
       "   '<div class=\"col-6\">',\n",
       "   '<button class=\"btn btn-success\">',\n",
       "   '<button class=\"btn btn-warning\">',\n",
       "   '<button class=\"btn btn-danger\">']),\n",
       " (37,\n",
       "  0.3216497747747748,\n",
       "  0.0,\n",
       "  ['<div class=\"col-4\">',\n",
       "   '<div class=\"col-3\">',\n",
       "   '<div class=\"col-12\">',\n",
       "   '<div class=\"col-6\">',\n",
       "   '<button class=\"btn btn-success\">',\n",
       "   '<button class=\"btn btn-warning\">',\n",
       "   '<button class=\"btn btn-danger\">',\n",
       "   '<div class=\"col-4\">']),\n",
       " (38,\n",
       "  0.3216497747747748,\n",
       "  0.0,\n",
       "  ['<div class=\"col-4\">',\n",
       "   '<div class=\"col-3\">',\n",
       "   '<div class=\"col-12\">',\n",
       "   '<div class=\"col-6\">',\n",
       "   '<button class=\"btn btn-success\">',\n",
       "   '<button class=\"btn btn-warning\">',\n",
       "   '<button class=\"btn btn-danger\">',\n",
       "   '<div class=\"col-4\">',\n",
       "   '<button class=\"btn btn-success\">']),\n",
       " (39,\n",
       "  0.3216497747747748,\n",
       "  0.0,\n",
       "  ['<div class=\"col-4\">',\n",
       "   '<div class=\"col-3\">',\n",
       "   '<div class=\"col-12\">',\n",
       "   '<div class=\"col-6\">',\n",
       "   '<button class=\"btn btn-success\">',\n",
       "   '<button class=\"btn btn-warning\">',\n",
       "   '<button class=\"btn btn-danger\">',\n",
       "   '<div class=\"col-4\">',\n",
       "   '<button class=\"btn btn-success\">',\n",
       "   '<div class=\"col-6\">']),\n",
       " (40, 0.0, 0.0, ['<div class=\"col-4\">']),\n",
       " (41,\n",
       "  0.3258727477477477,\n",
       "  0.3258727477477477,\n",
       "  ['<div class=\"col-4\">', '<button class=\"btn btn-danger\">']),\n",
       " (42,\n",
       "  0.3258727477477477,\n",
       "  0,\n",
       "  ['<div class=\"col-4\">', '<button class=\"btn btn-danger\">', '</button>']),\n",
       " (43,\n",
       "  0.1710304054054054,\n",
       "  -0.15484234234234232,\n",
       "  ['<div class=\"col-4\">',\n",
       "   '<button class=\"btn btn-danger\">',\n",
       "   '</button>',\n",
       "   '<button class=\"btn btn-danger\">']),\n",
       " (44,\n",
       "  0.1710304054054054,\n",
       "  0.0,\n",
       "  ['<div class=\"col-4\">',\n",
       "   '<button class=\"btn btn-danger\">',\n",
       "   '</button>',\n",
       "   '<button class=\"btn btn-danger\">',\n",
       "   '<div class=\"container-fluid\">']),\n",
       " (45,\n",
       "  0.1710304054054054,\n",
       "  0.0,\n",
       "  ['<div class=\"col-4\">',\n",
       "   '<button class=\"btn btn-danger\">',\n",
       "   '</button>',\n",
       "   '<button class=\"btn btn-danger\">',\n",
       "   '<div class=\"container-fluid\">',\n",
       "   '<div class=\"col-4\">']),\n",
       " (46,\n",
       "  0.1710304054054054,\n",
       "  0.0,\n",
       "  ['<div class=\"col-4\">',\n",
       "   '<button class=\"btn btn-danger\">',\n",
       "   '</button>',\n",
       "   '<button class=\"btn btn-danger\">',\n",
       "   '<div class=\"container-fluid\">',\n",
       "   '<div class=\"col-4\">',\n",
       "   '<div class=\"row\">']),\n",
       " (47,\n",
       "  0.1710304054054054,\n",
       "  0.0,\n",
       "  ['<div class=\"col-4\">',\n",
       "   '<button class=\"btn btn-danger\">',\n",
       "   '</button>',\n",
       "   '<button class=\"btn btn-danger\">',\n",
       "   '<div class=\"container-fluid\">',\n",
       "   '<div class=\"col-4\">',\n",
       "   '<div class=\"row\">',\n",
       "   '<button class=\"btn btn-warning\">']),\n",
       " (48,\n",
       "  0.1710304054054054,\n",
       "  0.0,\n",
       "  ['<div class=\"col-4\">',\n",
       "   '<button class=\"btn btn-danger\">',\n",
       "   '</button>',\n",
       "   '<button class=\"btn btn-danger\">',\n",
       "   '<div class=\"container-fluid\">',\n",
       "   '<div class=\"col-4\">',\n",
       "   '<div class=\"row\">',\n",
       "   '<button class=\"btn btn-warning\">',\n",
       "   '<div class=\"row\">']),\n",
       " (49,\n",
       "  0.1710304054054054,\n",
       "  0.0,\n",
       "  ['<div class=\"col-4\">',\n",
       "   '<button class=\"btn btn-danger\">',\n",
       "   '</button>',\n",
       "   '<button class=\"btn btn-danger\">',\n",
       "   '<div class=\"container-fluid\">',\n",
       "   '<div class=\"col-4\">',\n",
       "   '<div class=\"row\">',\n",
       "   '<button class=\"btn btn-warning\">',\n",
       "   '<div class=\"row\">',\n",
       "   '<div class=\"col-4\">'])]"
      ]
     },
     "execution_count": 19,
     "metadata": {},
     "output_type": "execute_result"
    }
   ],
   "source": [
    "[(i, p.abs_reward, p.reward, list(p.next_state.tag.str_tokens)) for i, p in enumerate(memory.memory)]"
   ]
  },
  {
   "cell_type": "code",
   "execution_count": 34,
   "metadata": {},
   "outputs": [],
   "source": [
    "bexamples = memory.sample(g.BATCH_SIZE)"
   ]
  },
  {
   "cell_type": "code",
   "execution_count": 39,
   "metadata": {},
   "outputs": [
    {
     "data": {
      "text/plain": [
       "DQN(\n",
       "  (encoder): EncoderV1(\n",
       "    (conv1): Conv2d(3, 16, kernel_size=(7, 7), stride=(1, 1))\n",
       "    (bn1): BatchNorm2d(16, eps=1e-05, momentum=0.9, affine=True, track_running_stats=True)\n",
       "    (pool1): MaxPool2d(kernel_size=3, stride=2, padding=0, dilation=1, ceil_mode=False)\n",
       "    (conv2): Conv2d(16, 32, kernel_size=(5, 5), stride=(1, 1))\n",
       "    (bn2): BatchNorm2d(32, eps=1e-05, momentum=0.9, affine=True, track_running_stats=True)\n",
       "    (pool2): MaxPool2d(kernel_size=3, stride=2, padding=0, dilation=1, ceil_mode=False)\n",
       "    (conv3): Conv2d(32, 64, kernel_size=(5, 5), stride=(1, 1))\n",
       "    (bn3): BatchNorm2d(64, eps=1e-05, momentum=0.9, affine=True, track_running_stats=True)\n",
       "    (pool3): MaxPool2d(kernel_size=3, stride=2, padding=0, dilation=1, ceil_mode=False)\n",
       "    (fc1): Linear(in_features=12160, out_features=512, bias=True)\n",
       "  )\n",
       "  (decoder): ActionDecoder(\n",
       "    (word_embedding): Embedding(15, 100, padding_idx=0)\n",
       "    (lstm): LSTMNoEmbedding(\n",
       "      (lstm): LSTM(612, 512, batch_first=True)\n",
       "    )\n",
       "    (lstm2action): Linear(in_features=512, out_features=12, bias=True)\n",
       "  )\n",
       ")"
      ]
     },
     "execution_count": 39,
     "metadata": {},
     "output_type": "execute_result"
    }
   ],
   "source": [
    "policy_q = DQN(\n",
    "    EncoderV1(img_h=images[0].shape[0], img_w=images[0].shape[1], img_repr_size=g.IMG_REPR_SIZE), \n",
    "    ActionDecoder(g.IMG_REPR_SIZE, dsl_vocab=vocab, dsl_embedding_dim=g.DSL_EMBED_DIM, dsl_hidden_dim=g.DSL_HIDDEN_DIM, n_actions=g.n_actions)).to(device)\n",
    "target_q = DQN(\n",
    "    EncoderV1(img_h=images[0].shape[0], img_w=images[0].shape[1], img_repr_size=g.IMG_REPR_SIZE), \n",
    "    ActionDecoder(g.IMG_REPR_SIZE, dsl_vocab=vocab, dsl_embedding_dim=g.DSL_EMBED_DIM, dsl_hidden_dim=g.DSL_HIDDEN_DIM, n_actions=g.n_actions)).to(device)\n",
    "target_q.load_state_dict(policy_q.state_dict())\n",
    "target_q.eval()"
   ]
  },
  {
   "cell_type": "code",
   "execution_count": 37,
   "metadata": {},
   "outputs": [],
   "source": [
    "def report_wg(model):\n",
    "    grads, weights = 0.0, 0.0\n",
    "    for p in model.parameters():\n",
    "        if p.grad is not None:\n",
    "            grads += p.grad.sum().item()\n",
    "        weights += p.sum().item()\n",
    "    return grads, weights"
   ]
  },
  {
   "cell_type": "code",
   "execution_count": 38,
   "metadata": {},
   "outputs": [
    {
     "name": "stdout",
     "output_type": "stream",
     "text": [
      "0.0338697657 target (0.0, 39.06810339912772) policy (-7.717470888915614, 25.384707901626825)\n",
      "0.8396993876 target (0.0, 25.384707901626825) policy (4.382002294777749, 488.09840572811663)\n",
      "0.2399831116 target (0.0, 25.384707901626825) policy (-43.14442219976951, 592.6080336337909)\n",
      "0.0467058420 target (0.0, 25.384707901626825) policy (-17.59756847360842, 681.7979613877833)\n",
      "0.5620483160 target (0.0, 681.7979613877833) policy (-23.326732020799, 650.9129146616906)\n",
      "0.6664702892 target (0.0, 681.7979613877833) policy (-410.49753265894105, 1247.7293339157477)\n",
      "0.2013376206 target (0.0, 681.7979613877833) policy (240.26189744952944, 1216.6608694717288)\n",
      "0.2736930549 target (0.0, 1216.6608694717288) policy (-118.49623791862541, 1249.0392784383148)\n",
      "0.0106074642 target (0.0, 1216.6608694717288) policy (7.39627484996069, 1266.466352316551)\n",
      "0.0036621280 target (0.0, 1216.6608694717288) policy (-3.2444191765288153, 1251.3169315420091)\n",
      "0.0950069055 target (0.0, 1251.3169315420091) policy (3.3732756874892313, 1254.7484768312424)\n",
      "0.0100982320 target (0.0, 1251.3169315420091) policy (1.0073280076058824, 1256.1982691958547)\n",
      "0.0011844964 target (0.0, 1251.3169315420091) policy (0.2515691682485609, 1257.624055562541)\n",
      "0.0868029222 target (0.0, 1257.624055562541) policy (3.281323846658249, 1259.8980675954372)\n",
      "0.0081761694 target (0.0, 1257.624055562541) policy (1.4955958986724234, 1268.2291869595647)\n",
      "0.0054823309 target (0.0, 1257.624055562541) policy (2.7050490640087332, 1259.5217893831432)\n",
      "0.1563368738 target (0.0, 1259.5217893831432) policy (0.8194663355975642, 1273.3720005266368)\n",
      "0.0175655819 target (0.0, 1259.5217893831432) policy (1.3079903221123768, 1274.9783672094345)\n",
      "0.0018331647 target (0.0, 1259.5217893831432) policy (-0.007661852378500367, 1278.4452728778124)\n",
      "0.1227452010 target (0.0, 1278.4452728778124) policy (-2.1748176782149358, 1285.3248551003635)\n",
      "0.0093122143 target (0.0, 1278.4452728778124) policy (-0.06370189393066639, 1297.1354656685144)\n",
      "0.0005219945 target (0.0, 1278.4452728778124) policy (0.16884885410625738, 1296.295039477758)\n",
      "0.1202635020 target (0.0, 1296.295039477758) policy (4.601547154908722, 1297.9369362853467)\n",
      "0.0121702123 target (0.0, 1296.295039477758) policy (1.5629753953613184, 1300.486463965848)\n",
      "0.0015489019 target (0.0, 1296.295039477758) policy (0.48820513738601834, 1300.3365568444133)\n",
      "0.1358591914 target (0.0, 1300.3365568444133) policy (77.55687744550198, 1338.295062947087)\n",
      "0.0185795818 target (0.0, 1300.3365568444133) policy (53.65658993065449, 1348.2671560426243)\n",
      "0.0009319794 target (0.0, 1300.3365568444133) policy (-0.00785654044527706, 1363.3347367043607)\n",
      "0.1263396740 target (0.0, 1363.3347367043607) policy (4.2085590114231195, 1381.484389090445)\n",
      "0.0148261506 target (0.0, 1363.3347367043607) policy (2.101597530086897, 1381.5084747048095)\n",
      "0.0033107724 target (0.0, 1363.3347367043607) policy (0.2392436831181397, 1382.5226020771079)\n",
      "0.1746940911 target (0.0, 1382.5226020771079) policy (4.503370417394336, 1398.5839719506912)\n",
      "0.0223114938 target (0.0, 1382.5226020771079) policy (-0.4251473684910678, 1415.1356430393644)\n",
      "0.0019325608 target (0.0, 1382.5226020771079) policy (0.48424550263854904, 1417.9142417423427)\n",
      "0.1615772545 target (0.0, 1417.9142417423427) policy (5.83840147279561, 1425.328142689541)\n",
      "0.0179244764 target (0.0, 1417.9142417423427) policy (-0.12929968180493034, 1437.8193074674346)\n",
      "0.0025948538 target (0.0, 1417.9142417423427) policy (0.8035598170073825, 1439.8192975264974)\n",
      "0.2578426301 target (0.0, 1439.8192975264974) policy (6.895999322462231, 1443.9541793917306)\n",
      "0.0392958596 target (0.0, 1439.8192975264974) policy (3.0064159629116993, 1445.6141341128387)\n",
      "0.0056436155 target (0.0, 1439.8192975264974) policy (0.4808253901116988, 1450.3855296634138)\n",
      "0.2007644624 target (0.0, 1450.3855296634138) policy (-12.762937426995677, 1466.033015564084)\n",
      "0.0180386603 target (0.0, 1450.3855296634138) policy (-1.0150840375374628, 1471.4116279780865)\n",
      "0.0015554096 target (0.0, 1450.3855296634138) policy (-0.3387591738630107, 1470.7663781214505)\n",
      "0.1565443575 target (0.0, 1470.7663781214505) policy (1.0434691116122679, 1470.2681867713109)\n",
      "0.0154315857 target (0.0, 1470.7663781214505) policy (-0.5773655834249674, 1467.4059321433306)\n",
      "0.0025686279 target (0.0, 1470.7663781214505) policy (0.1315935071902512, 1468.140317948535)\n",
      "0.2024855167 target (0.0, 1468.140317948535) policy (-12.20438365189402, 1475.240218443796)\n",
      "0.0228850804 target (0.0, 1468.140317948535) policy (1.648367368690316, 1478.132323906757)\n",
      "0.0017212633 target (0.0, 1468.140317948535) policy (0.16564697860547017, 1479.6661546081305)\n",
      "0.2216536254 target (0.0, 1479.6661546081305) policy (5.996534533480714, 1481.4645016463473)\n",
      "0.0270043314 target (0.0, 1479.6661546081305) policy (-3.1383436223185797, 1485.7570278923959)\n",
      "0.0019230538 target (0.0, 1479.6661546081305) policy (0.26887232919167703, 1486.4337943531573)\n",
      "0.2279289514 target (0.0, 1486.4337943531573) policy (5.973342013202785, 1487.3822184242308)\n",
      "0.0354849547 target (0.0, 1486.4337943531573) policy (2.0380996415128374, 1488.4793707728386)\n",
      "0.0044642845 target (0.0, 1486.4337943531573) policy (0.781132434392017, 1489.0758332442492)\n",
      "0.2466085404 target (0.0, 1489.0758332442492) policy (6.06120667786225, 1489.6087334407493)\n",
      "0.0374305919 target (0.0, 1489.0758332442492) policy (1.2335122382158055, 1493.4768503932282)\n",
      "0.0060763755 target (0.0, 1489.0758332442492) policy (0.9677651314254136, 1494.5226659383625)\n",
      "0.2522531450 target (0.0, 1494.5226659383625) policy (5.175167890509526, 1496.429508810863)\n",
      "0.0326621905 target (0.0, 1494.5226659383625) policy (-4.453092018158241, 1504.8037982610986)\n",
      "0.0039571305 target (0.0, 1494.5226659383625) policy (0.5904704012195992, 1505.584378765896)\n",
      "0.2703354657 target (0.0, 1505.584378765896) policy (5.156204811528324, 1507.8323676688597)\n",
      "0.0469077677 target (0.0, 1505.584378765896) policy (1.8492762891871983, 1508.7614296609536)\n",
      "0.0086761443 target (0.0, 1505.584378765896) policy (1.0232792033267981, 1509.0105359423906)\n",
      "0.2934825420 target (0.0, 1509.0105359423906) policy (4.799645524656896, 1510.698816346936)\n",
      "0.0568106547 target (0.0, 1509.0105359423906) policy (2.981021464039113, 1510.8773593902588)\n",
      "0.0116814198 target (0.0, 1509.0105359423906) policy (1.3440811910892074, 1510.9370588958263)\n",
      "0.3037274778 target (0.0, 1510.9370588958263) policy (6.910215737642881, 1511.2306009428576)\n",
      "0.0682678148 target (0.0, 1510.9370588958263) policy (3.2671335184090697, 1511.4662041673437)\n",
      "0.0156673659 target (0.0, 1510.9370588958263) policy (1.5559756982890844, 1511.7662509214133)\n",
      "0.3182674050 target (0.0, 1511.7662509214133) policy (6.571770341390815, 1513.1439591897652)\n",
      "0.0716833025 target (0.0, 1511.7662509214133) policy (2.3989044555921666, 1516.0642249342054)\n",
      "0.0173543468 target (0.0, 1511.7662509214133) policy (1.8657858758025752, 1516.1974211130291)\n",
      "0.3307478726 target (0.0, 1516.1974211130291) policy (8.199975488619616, 1516.6260787835345)\n",
      "0.0862038806 target (0.0, 1516.1974211130291) policy (4.176755893091178, 1517.304560719058)\n",
      "0.0210874192 target (0.0, 1516.1974211130291) policy (1.7216308599322898, 1518.1944205900654)\n",
      "0.3413543999 target (0.0, 1518.1944205900654) policy (7.954690060766241, 1518.6359827090055)\n",
      "0.0947220176 target (0.0, 1518.1944205900654) policy (4.161196737778868, 1520.1706689326093)\n",
      "0.0251492970 target (0.0, 1518.1944205900654) policy (1.9098871907420243, 1522.2753098923713)\n",
      "0.3829470575 target (0.0, 1522.2753098923713) policy (9.735550404550734, 1522.4801009837538)\n",
      "0.1133240908 target (0.0, 1522.2753098923713) policy (5.514766301104068, 1522.5623905463144)\n",
      "0.0331082083 target (0.0, 1522.2753098923713) policy (2.9709975218039597, 1522.6213856190443)\n",
      "0.3961728811 target (0.0, 1522.6213856190443) policy (10.308762818812777, 1522.9156313119456)\n",
      "0.1220402494 target (0.0, 1522.6213856190443) policy (4.499255955806891, 1526.0322049446404)\n",
      "0.0323304534 target (0.0, 1522.6213856190443) policy (2.842836949914366, 1527.8399254875258)\n",
      "0.4060153961 target (0.0, 1527.8399254875258) policy (10.577695346909628, 1528.325393686071)\n",
      "0.1273650825 target (0.0, 1527.8399254875258) policy (5.677824131005948, 1528.0324241425842)\n",
      "0.0424859151 target (0.0, 1527.8399254875258) policy (3.266392652060074, 1528.525243501179)\n",
      "0.4386990666 target (0.0, 1528.525243501179) policy (10.381840708343189, 1528.8952431175858)\n",
      "0.1468636990 target (0.0, 1528.525243501179) policy (3.9310409713120578, 1531.3652104726061)\n",
      "0.0603733286 target (0.0, 1528.525243501179) policy (4.4079106834478345, 1531.6389077706262)\n",
      "0.4379647672 target (0.0, 1531.6389077706262) policy (11.815466006309698, 1532.4589181952178)\n",
      "0.1389406174 target (0.0, 1531.6389077706262) policy (-3.481751110699406, 1542.4461359521374)\n",
      "0.0467995778 target (0.0, 1531.6389077706262) policy (2.303905362035284, 1549.1656944192946)\n",
      "0.4595988691 target (0.0, 1549.1656944192946) policy (11.541163520275955, 1552.3901991788298)\n",
      "0.1598372012 target (0.0, 1549.1656944192946) policy (2.864172374828854, 1556.4624885935336)\n",
      "0.0487362109 target (0.0, 1549.1656944192946) policy (3.8896047526261324, 1557.522645195946)\n",
      "0.4898189604 target (0.0, 1557.522645195946) policy (5.130319135191272, 1560.4659859361127)\n",
      "0.1738204658 target (0.0, 1557.522645195946) policy (7.4769832144588655, 1562.6831997968256)\n",
      "0.0538088977 target (0.0, 1557.522645195946) policy (-3.068564341890948, 1558.318663741462)\n"
     ]
    }
   ],
   "source": [
    "policy_q.train()\n",
    "optimizer = torch.optim.RMSprop(policy_q.parameters(), lr=5e-4)\n",
    "losses = []\n",
    "for i in range(100):\n",
    "    x = train(policy_q, target_q, F.smooth_l1_loss, optimizer, env_creator, bexamples[:5], torch_images, g, device)\n",
    "    print(f\"{x:.10f}\", 'target', report_wg(target_q), 'policy', report_wg(policy_q))\n",
    "    losses.append(x)\n",
    "    \n",
    "    if i % 3 == 0:\n",
    "        target_q.load_state_dict(policy_q.state_dict())"
   ]
  },
  {
   "cell_type": "code",
   "execution_count": 280,
   "metadata": {},
   "outputs": [
    {
     "data": {
      "text/plain": [
       "[<matplotlib.lines.Line2D at 0x7f26f006ffd0>]"
      ]
     },
     "execution_count": 280,
     "metadata": {},
     "output_type": "execute_result"
    },
    {
     "data": {
      "image/png": "[encoded data removed]",
      "text/plain": [
       "<Figure size 432x288 with 1 Axes>"
      ]
     },
     "metadata": {
      "needs_background": "light"
     },
     "output_type": "display_data"
    }
   ],
   "source": [
    "plt.plot(losses)"
   ]
  },
  {
   "cell_type": "code",
   "execution_count": 40,
   "metadata": {},
   "outputs": [
    {
     "data": {
      "application/vnd.jupyter.widget-view+json": {
       "model_id": "a955f0bcff854e74a1951661319b1189",
       "version_major": 2,
       "version_minor": 0
      },
      "text/plain": [
       "HBox(children=(IntProgress(value=0), HTML(value='')))"
      ]
     },
     "metadata": {},
     "output_type": "display_data"
    },
    {
     "name": "stdout",
     "output_type": "stream",
     "text": [
      "\n"
     ]
    }
   ],
   "source": [
    "policy_q.train()\n",
    "optimizer = torch.optim.RMSprop(policy_q.parameters(), lr=5e-4)\n",
    "with tqdm(range(100)) as pbar:\n",
    "    for i in pbar:\n",
    "        avg_loss = []\n",
    "        for j in range(5):\n",
    "            loss = train(policy_q, target_q, F.smooth_l1_loss, optimizer, env_creator, bexamples, torch_images, g, device)\n",
    "            avg_loss.append(float(loss))\n",
    "        \n",
    "        pbar.set_postfix(loss=np.mean(avg_loss))\n",
    "        if i % 3 == 0:\n",
    "            target_q.load_state_dict(policy_q.state_dict())"
   ]
  },
  {
   "cell_type": "code",
   "execution_count": 46,
   "metadata": {},
   "outputs": [
    {
     "data": {
      "text/plain": [
       "100"
      ]
     },
     "execution_count": 46,
     "metadata": {},
     "output_type": "execute_result"
    }
   ],
   "source": [
    "g.step_done"
   ]
  },
  {
   "cell_type": "code",
   "execution_count": 15,
   "metadata": {},
   "outputs": [
    {
     "data": {
      "text/plain": [
       "0.2799671216792575"
      ]
     },
     "execution_count": 15,
     "metadata": {},
     "output_type": "execute_result"
    }
   ],
   "source": [
    "g.EPS_END + (g.EPS_START - g.EPS_END) * math.exp(-1 * g.step_done / g.EPS_DECAY)"
   ]
  },
  {
   "cell_type": "code",
   "execution_count": 16,
   "metadata": {},
   "outputs": [
    {
     "data": {
      "image/png": "[encoded data removed]",
      "text/plain": [
       "<Figure size 432x288 with 2 Axes>"
      ]
     },
     "metadata": {
      "needs_background": "light"
     },
     "output_type": "display_data"
    }
   ],
   "source": [
    "fig, ax = plt.subplots(1, 2)\n",
    "ax[0].plot(accum_done)\n",
    "mean_rewards = [np.mean(values) for values in accum_rewards]\n",
    "ax[1].plot(mean_rewards[::2])\n",
    "plt.show()"
   ]
  },
  {
   "cell_type": "code",
   "execution_count": 15,
   "metadata": {},
   "outputs": [
    {
     "data": {
      "text/plain": [
       "[]"
      ]
     },
     "execution_count": 15,
     "metadata": {},
     "output_type": "execute_result"
    }
   ],
   "source": [
    "[(i, x) for i, x in enumerate(mean_rewards) if x > 0]"
   ]
  },
  {
   "cell_type": "markdown",
   "metadata": {},
   "source": [
    "#### Evaluate the model"
   ]
  },
  {
   "cell_type": "code",
   "execution_count": 22,
   "metadata": {},
   "outputs": [
    {
     "name": "stdout",
     "output_type": "stream",
     "text": [
      "take action: AddCloseTag() reward -5000\n",
      "take action: AddCloseTag() reward -5000\n",
      "take action: AddCloseTag() reward -5000\n",
      "take action: AddCloseTag() reward -5000\n",
      "take action: AddCloseTag() reward -5000\n",
      "take action: AddCloseTag() reward -5000\n",
      "take action: AddCloseTag() reward -5000\n",
      "take action: AddCloseTag() reward -5000\n",
      "take action: AddCloseTag() reward -5000\n",
      "take action: AddCloseTag() reward -5000\n",
      "take action: AddCloseTag() reward -5000\n",
      "take action: AddCloseTag() reward -5000\n",
      "take action: AddCloseTag() reward -5000\n",
      "take action: AddCloseTag() reward -5000\n",
      "take action: AddCloseTag() reward -5000\n",
      "take action: AddCloseTag() reward -5000\n",
      "take action: AddCloseTag() reward -5000\n",
      "take action: AddCloseTag() reward -5000\n",
      "take action: AddCloseTag() reward -5000\n",
      "take action: AddCloseTag() reward -5000\n",
      "take action: AddCloseTag() reward -5000\n",
      "take action: AddCloseTag() reward -5000\n"
     ]
    },
    {
     "data": {
      "text/plain": [
       "<matplotlib.image.AxesImage at 0x7f6a1e318da0>"
      ]
     },
     "execution_count": 22,
     "metadata": {},
     "output_type": "execute_result"
    },
    {
     "data": {
      "image/png": "[encoded data removed]",
      "text/plain": [
       "<Figure size 432x288 with 1 Axes>"
      ]
     },
     "metadata": {
      "needs_background": "light"
     },
     "output_type": "display_data"
    }
   ],
   "source": [
    "env.reset()\n",
    "for i in range(g.MAX_EPS_LEN):\n",
    "    action = select_action(policy_q, env_creator, env.obs, g, device, eps_threshold=0.05)\n",
    "    next_obs, reward, _, _ = env.step(action)\n",
    "    print('take action:', action, 'reward', reward)\n",
    "    if i > 20:\n",
    "        break\n",
    "plt.imshow(1 - env.render())"
   ]
  },
  {
   "cell_type": "markdown",
   "metadata": {},
   "source": [
    "### Debug zone"
   ]
  },
  {
   "cell_type": "markdown",
   "metadata": {},
   "source": [
    "Test if the train function is executed as expected (they involve sorting so we need to double check the index"
   ]
  },
  {
   "cell_type": "code",
   "execution_count": 31,
   "metadata": {},
   "outputs": [
    {
     "name": "stdout",
     "output_type": "stream",
     "text": [
      "00 Undo()\n",
      "01 AddCloseTag()\n",
      "02 AddOpenTagAndClass(<div class=\"row\">)\n",
      "03 AddOpenTagAndClass(<div class=\"col-12\">)\n",
      "04 AddOpenTagAndClass(<div class=\"col-6\">)\n",
      "05 AddOpenTagAndClass(<div class=\"col-4\">)\n",
      "06 AddOpenTagAndClass(<div class=\"col-3\">)\n",
      "07 AddOpenTagAndClass(<div class=\"container-fluid\">)\n",
      "08 AddOpenTagAndClass(<div class=\"grey-background\">)\n",
      "09 AddOpenTagAndClass(<button class=\"btn btn-danger\">)\n",
      "10 AddOpenTagAndClass(<button class=\"btn btn-warning\">)\n",
      "11 AddOpenTagAndClass(<button class=\"btn btn-success\">)\n"
     ]
    },
    {
     "data": {
      "text/plain": [
       "<matplotlib.image.AxesImage at 0x7fc1564826a0>"
      ]
     },
     "execution_count": 31,
     "metadata": {},
     "output_type": "execute_result"
    },
    {
     "data": {
      "image/png": "[encoded data removed]",
      "text/plain": [
       "<Figure size 432x288 with 1 Axes>"
      ]
     },
     "metadata": {
      "needs_background": "light"
     },
     "output_type": "display_data"
    }
   ],
   "source": [
    "for i, a in enumerate(env_creator.actions):\n",
    "    print(f\"{i:02}\", a)\n",
    "plt.imshow(1 - env.render())"
   ]
  },
  {
   "cell_type": "code",
   "execution_count": 47,
   "metadata": {},
   "outputs": [
    {
     "name": "stdout",
     "output_type": "stream",
     "text": [
      "curr_obs pvector(['<div class=\"container-fluid\">', '<div class=\"row\">', '<div class=\"col-12\">']) action AddOpenTagAndClass(<div class=\"grey-background\">) reward=1363.0 done=False\n",
      "<div class=\"container-fluid\"><div class=\"row\"><div class=\"col-12\"><div class=\"grey-background\"></div></div></div></div>\n"
     ]
    },
    {
     "data": {
      "text/plain": [
       "<matplotlib.image.AxesImage at 0x7fc156362b70>"
      ]
     },
     "execution_count": 47,
     "metadata": {},
     "output_type": "execute_result"
    },
    {
     "data": {
      "image/png": "[encoded data removed]",
      "text/plain": [
       "<Figure size 432x288 with 1 Axes>"
      ]
     },
     "metadata": {
      "needs_background": "light"
     },
     "output_type": "display_data"
    }
   ],
   "source": [
    "def create_transition(env, actions):\n",
    "    env.reset()\n",
    "    for a in actions:\n",
    "        obs = env.obs\n",
    "        a = env_creator.actions[a]\n",
    "        next_obs, reward, done, _ = env.step(a)\n",
    "    \n",
    "    print('curr_obs', obs.tag.str_tokens, 'action', a, f'reward={reward}', f'done={done}')\n",
    "    return Transition(env.env_idx, obs, next_obs, a.action_id, reward, done)\n",
    "\n",
    "t0 = create_transition(env, [7, 2, 3, 8])\n",
    "print(t0.next_state.tag.to_body())\n",
    "plt.imshow(1- env.render(t0.next_state))"
   ]
  },
  {
   "cell_type": "code",
   "execution_count": 48,
   "metadata": {},
   "outputs": [
    {
     "name": "stdout",
     "output_type": "stream",
     "text": [
      "curr_obs pvector(['<div class=\"container-fluid\">', '<div class=\"row\">', '<div class=\"col-12\">']) action AddOpenTagAndClass(<div class=\"grey-background\">) reward=1363.0 done=False\n",
      "curr_obs pvector(['<div class=\"container-fluid\">', '<div class=\"row\">', '<div class=\"col-12\">', '<div class=\"grey-background\">']) action AddOpenTagAndClass(<button class=\"btn btn-success\">) reward=608.0 done=False\n",
      "curr_obs pvector(['<div class=\"container-fluid\">', '<div class=\"row\">', '<div class=\"col-12\">', '<div class=\"grey-background\">']) action Undo() reward=-1363.0 done=False\n"
     ]
    }
   ],
   "source": [
    "batch1 = [create_transition(env, [7, 2, 3, 8])]\n",
    "batch2 = batch1 + [create_transition(env, [7, 2, 3, 8, 11])]\n",
    "batch3 = batch1 + [create_transition(env, [7, 2, 3, 8, 0])]"
   ]
  },
  {
   "cell_type": "code",
   "execution_count": 99,
   "metadata": {},
   "outputs": [
    {
     "name": "stdout",
     "output_type": "stream",
     "text": [
      ">> curr tensor([0], device='cuda:0') \n",
      " tensor([[8]], device='cuda:0') \n",
      " tensor([[-1.3245]], device='cuda:0', grad_fn=<GatherBackward>)\n",
      ">> next tensor([0], device='cuda:0') \n",
      " tensor([[-2.4218, -2.5405, -2.4874, -2.4078, -2.4841, -2.4470, -2.4657, -2.5869,\n",
      "         -2.5167, -2.4995, -2.4962, -2.4785]], device='cuda:0',\n",
      "       grad_fn=<LogSoftmaxBackward>) \n",
      " tensor([-2.4078], device='cuda:0')\n",
      "reorder_obs_action_values tensor([[-1.3245]], device='cuda:0', grad_fn=<IndexPutBackward>)\n",
      "reordered_expected_obs_action_values tensor([[1360.5946]], device='cuda:0')\n"
     ]
    },
    {
     "data": {
      "text/plain": [
       "1361.419189453125"
      ]
     },
     "execution_count": 99,
     "metadata": {},
     "output_type": "execute_result"
    }
   ],
   "source": [
    "optimizer = torch.optim.RMSprop(policy_q.parameters())\n",
    "train(policy_q, target_q, F.smooth_l1_loss, optimizer, env_creator, batch1, torch_images, g, device)"
   ]
  },
  {
   "cell_type": "code",
   "execution_count": 102,
   "metadata": {},
   "outputs": [
    {
     "name": "stdout",
     "output_type": "stream",
     "text": [
      ">> curr tensor([1, 0], device='cuda:0') \n",
      " tensor([[11],\n",
      "        [ 8]], device='cuda:0') \n",
      " tensor([[-0.3091],\n",
      "        [-1.3245]], device='cuda:0', grad_fn=<GatherBackward>)\n",
      ">> next tensor([1, 0], device='cuda:0') \n",
      " tensor([[-2.4504, -2.4976, -2.4923, -2.3906, -2.5131, -2.4852, -2.5151, -2.4784,\n",
      "         -2.4852, -2.5037, -2.5056, -2.5087],\n",
      "        [-2.4218, -2.5405, -2.4874, -2.4078, -2.4841, -2.4470, -2.4657, -2.5869,\n",
      "         -2.5167, -2.4995, -2.4962, -2.4785]], device='cuda:0',\n",
      "       grad_fn=<LogSoftmaxBackward>) \n",
      " tensor([-2.3906, -2.4078], device='cuda:0')\n",
      "reorder_obs_action_values tensor([[-1.3245],\n",
      "        [-0.3091]], device='cuda:0', grad_fn=<IndexPutBackward>)\n",
      "reordered_expected_obs_action_values tensor([[1360.5946],\n",
      "        [ 605.6118]], device='cuda:0')\n"
     ]
    },
    {
     "data": {
      "text/plain": [
       "983.4200439453125"
      ]
     },
     "execution_count": 102,
     "metadata": {},
     "output_type": "execute_result"
    }
   ],
   "source": [
    "optimizer = torch.optim.RMSprop(policy_q.parameters())\n",
    "train(policy_q, target_q, F.smooth_l1_loss, optimizer, env_creator, batch2, torch_images, g, device)"
   ]
  },
  {
   "cell_type": "code",
   "execution_count": 103,
   "metadata": {},
   "outputs": [
    {
     "name": "stdout",
     "output_type": "stream",
     "text": [
      ">> curr tensor([1, 0], device='cuda:0') \n",
      " tensor([[0],\n",
      "        [8]], device='cuda:0') \n",
      " tensor([[-24.0616],\n",
      "        [ -1.3245]], device='cuda:0', grad_fn=<GatherBackward>)\n",
      ">> next tensor([0, 1], device='cuda:0') \n",
      " tensor([[-2.4218, -2.5405, -2.4874, -2.4078, -2.4841, -2.4470, -2.4657, -2.5869,\n",
      "         -2.5167, -2.4995, -2.4962, -2.4785],\n",
      "        [-2.4550, -2.5585, -2.4973, -2.4773, -2.4607, -2.4369, -2.4830, -2.5647,\n",
      "         -2.5090, -2.4641, -2.4985, -2.4242]], device='cuda:0',\n",
      "       grad_fn=<LogSoftmaxBackward>) \n",
      " tensor([-2.4078, -2.4242], device='cuda:0')\n",
      "reorder_obs_action_values tensor([[ -1.3245],\n",
      "        [-24.0616]], device='cuda:0', grad_fn=<IndexPutBackward>)\n",
      "reordered_expected_obs_action_values tensor([[ 1360.5946],\n",
      "        [-1365.4218]], device='cuda:0')\n"
     ]
    },
    {
     "data": {
      "text/plain": [
       "1351.1396484375"
      ]
     },
     "execution_count": 103,
     "metadata": {},
     "output_type": "execute_result"
    }
   ],
   "source": [
    "optimizer = torch.optim.RMSprop(policy_q.parameters())\n",
    "train(policy_q, target_q, F.smooth_l1_loss, optimizer, env_creator, batch3, torch_images, g, device)"
   ]
  },
  {
   "cell_type": "code",
   "execution_count": 54,
   "metadata": {},
   "outputs": [],
   "source": [
    "env.reset()"
   ]
  },
  {
   "cell_type": "code",
   "execution_count": 19,
   "metadata": {},
   "outputs": [
    {
     "name": "stdout",
     "output_type": "stream",
     "text": [
      "AddOpenTag(<div>)\n",
      "<div></div>\n"
     ]
    }
   ],
   "source": [
    "action = select_action(policy_q, env_creator, env.obs, g, device)\n",
    "print(action)\n",
    "print(env.step(action)[0].curr_tag.to_body())"
   ]
  },
  {
   "cell_type": "code",
   "execution_count": null,
   "metadata": {},
   "outputs": [],
   "source": [
    "plt.imshow(1 - env.render())"
   ]
  },
  {
   "cell_type": "code",
   "execution_count": null,
   "metadata": {},
   "outputs": [],
   "source": [
    "print(env.obs.curr_tag.to_body())\n",
    "print(env.obs.curr_tag.str_tokens)\n",
    "print(env.obs.curr_tag.tokens)"
   ]
  }
 ],
 "metadata": {
  "kernelspec": {
   "display_name": "sketch2code",
   "language": "python",
   "name": "sketch2code"
  },
  "language_info": {
   "codemirror_mode": {
    "name": "ipython",
    "version": 3
   },
   "file_extension": ".py",
   "mimetype": "text/x-python",
   "name": "python",
   "nbconvert_exporter": "python",
   "pygments_lexer": "ipython3",
   "version": "3.7.1"
  }
 },
 "nbformat": 4,
 "nbformat_minor": 2
}
