{
 "cells": [
  {
   "cell_type": "code",
   "execution_count": 1,
   "metadata": {},
   "outputs": [],
   "source": [
    "import cv2\n",
    "import torch\n",
    "import h5py\n",
    "import numpy as np\n",
    "import imageio\n",
    "from tqdm import tqdm, tqdm_notebook\n",
    "import matplotlib.pyplot as plt\n",
    "import time\n",
    "from collections import defaultdict\n",
    "\n",
    "%matplotlib inline\n",
    "plt.rcParams[\"figure.figsize\"] = (10.0, 8.0) # set default size of plots\n",
    "plt.rcParams[\"image.interpolation\"] = \"nearest\"\n",
    "plt.rcParams[\"image.cmap\"] = \"gray\"\n",
    "\n",
    "%load_ext autoreload\n",
    "%autoreload 2"
   ]
  },
  {
   "cell_type": "code",
   "execution_count": 2,
   "metadata": {},
   "outputs": [
    {
     "name": "stderr",
     "output_type": "stream",
     "text": [
      "/home/rook/.local/share/virtualenvs/sketch2code-rS5pvLAN/lib/python3.7/site-packages/tqdm/autonotebook/__init__.py:14: TqdmExperimentalWarning: Using `tqdm.autonotebook.tqdm` in notebook mode. Use `tqdm.tqdm` instead to force console mode (e.g. in jupyter console)\n",
      "  \" (e.g. in jupyter console)\", TqdmExperimentalWarning)\n"
     ]
    }
   ],
   "source": [
    "%reload_ext autoreload\n",
    "\n",
    "from sketch2code.data_model import *\n",
    "from sketch2code.datasets import *\n",
    "from sketch2code.helpers import *\n",
    "from sketch2code.synthesize_program import *\n",
    "from sketch2code.methods.lstm import *\n",
    "from sketch2code.methods.baseline1_supervised import *\n",
    "from s06_supervise_baseline import *\n",
    "from s01_toy_img_feature import make_vocab as make_img_vocab"
   ]
  },
  {
   "cell_type": "markdown",
   "metadata": {},
   "source": [
    "### Purpose\n",
    "\n",
    "Supervised for program synthesis"
   ]
  },
  {
   "cell_type": "code",
   "execution_count": 3,
   "metadata": {},
   "outputs": [
    {
     "data": {
      "text/plain": [
       "device(type='cuda')"
      ]
     },
     "execution_count": 3,
     "metadata": {},
     "output_type": "execute_result"
    }
   ],
   "source": [
    "device = torch.device(\"cuda\" if torch.cuda.is_available() else \"cpu\")\n",
    "device"
   ]
  },
  {
   "cell_type": "code",
   "execution_count": 4,
   "metadata": {},
   "outputs": [
    {
     "name": "stdout",
     "output_type": "stream",
     "text": [
      "#examples 1750\n"
     ]
    },
    {
     "data": {
      "image/png": "[encoded data removed]",
      "text/plain": [
       "<Figure size 432x288 with 1 Axes>"
      ]
     },
     "metadata": {
      "needs_background": "light"
     },
     "output_type": "display_data"
    }
   ],
   "source": [
    "tags, oimages = load_dataset(\"toy\")\n",
    "print(\"#examples\", len(tags))\n",
    "\n",
    "def preprocess_img():\n",
    "    global oimages\n",
    "    return [shrink_img(img, 0.4, cv2.INTER_NEAREST).transpose((2, 0, 1)) for img in norm_rgb_imgs(oimages[:])]\n",
    "\n",
    "images = cache_arrays(\"toy.shrink.imgs\", preprocess_img)\n",
    "plt.imshow(1 - images[0].transpose(1, 2, 0))\n",
    "images = torch.tensor(images, device=device)"
   ]
  },
  {
   "cell_type": "markdown",
   "metadata": {},
   "source": [
    "### Prepare datasets"
   ]
  },
  {
   "cell_type": "code",
   "execution_count": 5,
   "metadata": {},
   "outputs": [
    {
     "name": "stdout",
     "output_type": "stream",
     "text": [
      "#examples 1250\n",
      "#examples 250\n",
      "#examples 250\n"
     ]
    }
   ],
   "source": [
    "vocab, ivocab = make_toy_vocab()\n",
    "min_length = 10\n",
    "\n",
    "def get_datasets():\n",
    "    train_examples = make_dataset(tags[:1250], vocab, min_length)\n",
    "    valid_examples = make_dataset(tags[1250:1500], vocab, min_length)\n",
    "    test_examples = make_dataset(tags[1500:], vocab, min_length)\n",
    "\n",
    "    return train_examples, valid_examples, test_examples\n",
    "\n",
    "train_examples, valid_examples, test_examples = get_datasets()"
   ]
  },
  {
   "cell_type": "markdown",
   "metadata": {},
   "source": [
    "### Define the model"
   ]
  },
  {
   "cell_type": "code",
   "execution_count": 6,
   "metadata": {},
   "outputs": [],
   "source": [
    "decoder_lr=4e-4\n",
    "encoder_lr=1e-4\n",
    "fine_tune_encoder=True\n",
    "\n",
    "decoder = DecoderWithAttention(attention_dim=512,\n",
    "                                       embed_dim=512,\n",
    "                                       decoder_dim=512,\n",
    "                                       vocab_size=len(vocab),\n",
    "                                       dropout=0.5)\n",
    "decoder_optimizer = torch.optim.Adam(params=filter(lambda p: p.requires_grad, decoder.parameters()),\n",
    "                                     lr=decoder_lr)\n",
    "encoder = Encoder()\n",
    "encoder.fine_tune(fine_tune_encoder)\n",
    "encoder_optimizer = torch.optim.Adam(params=filter(lambda p: p.requires_grad, encoder.parameters()),\n",
    "                                     lr=encoder_lr) if fine_tune_encoder else None\n",
    "decoder = decoder.to(device)\n",
    "encoder = encoder.to(device)\n",
    "criterion = nn.CrossEntropyLoss().to(device)"
   ]
  },
  {
   "cell_type": "code",
   "execution_count": 29,
   "metadata": {},
   "outputs": [
    {
     "name": "stdout",
     "output_type": "stream",
     "text": [
      "Validation: [0/250]\tBatch Time 0.271 (0.271)\tLoss 1.6318 (1.6318)\tTop-5 Accuracy 61.415 (61.415)\t\n",
      "\n",
      " * LOSS - 1.635, TOP-5 ACCURACY - 61.283, BLEU-4 - 0.0\n",
      "\n"
     ]
    },
    {
     "data": {
      "text/plain": [
       "0.0"
      ]
     },
     "execution_count": 29,
     "metadata": {},
     "output_type": "execute_result"
    }
   ],
   "source": [
    "validate(encoder, decoder, criterion, 32, device)"
   ]
  },
  {
   "cell_type": "code",
   "execution_count": 30,
   "metadata": {},
   "outputs": [
    {
     "name": "stdout",
     "output_type": "stream",
     "text": [
      "Epoch: [4][0/100]\tBatch Time 0.710 (0.710)\tData Load Time 0.007 (0.007)\tLoss 1.7577 (1.7577)\tTop-5 Accuracy 59.609 (59.609)\n",
      "Epoch: [4][10/100]\tBatch Time 0.718 (0.730)\tData Load Time 0.002 (0.002)\tLoss 1.4948 (1.5803)\tTop-5 Accuracy 68.047 (65.106)\n",
      "Epoch: [4][20/100]\tBatch Time 0.749 (0.734)\tData Load Time 0.002 (0.002)\tLoss 1.7374 (1.6679)\tTop-5 Accuracy 58.699 (62.019)\n",
      "Epoch: [4][30/100]\tBatch Time 0.755 (0.741)\tData Load Time 0.002 (0.002)\tLoss 1.7430 (1.6687)\tTop-5 Accuracy 58.275 (61.852)\n",
      "Epoch: [5][0/100]\tBatch Time 0.710 (0.710)\tData Load Time 0.002 (0.002)\tLoss 1.7749 (1.7749)\tTop-5 Accuracy 58.228 (58.228)\n",
      "Epoch: [5][10/100]\tBatch Time 0.701 (0.726)\tData Load Time 0.001 (0.002)\tLoss 1.6840 (1.6611)\tTop-5 Accuracy 60.989 (61.854)\n",
      "Epoch: [5][20/100]\tBatch Time 0.699 (0.732)\tData Load Time 0.002 (0.002)\tLoss 1.4986 (1.6182)\tTop-5 Accuracy 69.393 (63.396)\n",
      "Epoch: [5][30/100]\tBatch Time 0.728 (0.743)\tData Load Time 0.002 (0.002)\tLoss 1.7835 (1.6148)\tTop-5 Accuracy 58.237 (63.313)\n",
      "Epoch: [6][0/100]\tBatch Time 0.731 (0.731)\tData Load Time 0.002 (0.002)\tLoss 1.8406 (1.8406)\tTop-5 Accuracy 56.269 (56.269)\n",
      "Epoch: [6][10/100]\tBatch Time 0.733 (0.746)\tData Load Time 0.002 (0.002)\tLoss 1.4201 (1.6740)\tTop-5 Accuracy 73.176 (61.883)\n",
      "Epoch: [6][20/100]\tBatch Time 0.751 (0.739)\tData Load Time 0.002 (0.002)\tLoss 1.5512 (1.6664)\tTop-5 Accuracy 65.661 (61.907)\n",
      "Epoch: [6][30/100]\tBatch Time 0.730 (0.740)\tData Load Time 0.002 (0.002)\tLoss 1.6814 (1.6659)\tTop-5 Accuracy 61.302 (61.825)\n",
      "Epoch: [7][0/100]\tBatch Time 0.760 (0.760)\tData Load Time 0.002 (0.002)\tLoss 1.6111 (1.6111)\tTop-5 Accuracy 64.440 (64.440)\n",
      "Epoch: [7][10/100]\tBatch Time 0.761 (0.758)\tData Load Time 0.002 (0.002)\tLoss 1.6080 (1.5785)\tTop-5 Accuracy 64.151 (64.873)\n",
      "Epoch: [7][20/100]\tBatch Time 0.701 (0.747)\tData Load Time 0.002 (0.002)\tLoss 1.5778 (1.6110)\tTop-5 Accuracy 66.914 (63.801)\n",
      "Epoch: [7][30/100]\tBatch Time 0.733 (0.745)\tData Load Time 0.002 (0.002)\tLoss 1.7513 (1.6231)\tTop-5 Accuracy 59.178 (63.432)\n",
      "Epoch: [8][0/100]\tBatch Time 0.754 (0.754)\tData Load Time 0.002 (0.002)\tLoss 1.5946 (1.5946)\tTop-5 Accuracy 62.966 (62.966)\n",
      "Epoch: [8][10/100]\tBatch Time 0.807 (0.749)\tData Load Time 0.002 (0.002)\tLoss 1.5272 (1.6333)\tTop-5 Accuracy 65.696 (62.187)\n",
      "Epoch: [8][20/100]\tBatch Time 0.713 (0.747)\tData Load Time 0.002 (0.002)\tLoss 1.6005 (1.6260)\tTop-5 Accuracy 64.514 (62.973)\n",
      "Epoch: [8][30/100]\tBatch Time 0.795 (0.746)\tData Load Time 0.002 (0.002)\tLoss 1.6549 (1.6230)\tTop-5 Accuracy 62.155 (63.227)\n",
      "Epoch: [9][0/100]\tBatch Time 0.743 (0.743)\tData Load Time 0.002 (0.002)\tLoss 1.5782 (1.5782)\tTop-5 Accuracy 64.388 (64.388)\n",
      "Epoch: [9][10/100]\tBatch Time 0.692 (0.734)\tData Load Time 0.002 (0.002)\tLoss 1.8789 (1.6510)\tTop-5 Accuracy 55.619 (63.118)\n",
      "Epoch: [9][20/100]\tBatch Time 0.765 (0.738)\tData Load Time 0.002 (0.002)\tLoss 1.6236 (1.6367)\tTop-5 Accuracy 62.775 (63.360)\n",
      "Epoch: [9][30/100]\tBatch Time 0.763 (0.748)\tData Load Time 0.002 (0.002)\tLoss 1.6362 (1.6204)\tTop-5 Accuracy 63.481 (63.745)\n"
     ]
    }
   ],
   "source": [
    "for i in range(4, 10):\n",
    "    train2(encoder, decoder, criterion, encoder_optimizer, decoder_optimizer, i, 32, images, train_examples, device)\n",
    "\n",
    "\n"
   ]
  },
  {
   "cell_type": "code",
   "execution_count": 26,
   "metadata": {},
   "outputs": [],
   "source": [
    "def validate(encoder, decoder, criterion, batch_size, device):\n",
    "    \"\"\"\n",
    "    Performs one epoch's validation.\n",
    "    :param val_loader: DataLoader for validation data.\n",
    "    :param encoder: encoder model\n",
    "    :param decoder: decoder model\n",
    "    :param criterion: loss layer\n",
    "    :return: BLEU-4 score\n",
    "    \"\"\"\n",
    "    decoder.eval()  # eval mode (no dropout or batchnorm)\n",
    "    if encoder is not None:\n",
    "        encoder.eval()\n",
    "    \n",
    "    alpha_c = 1.\n",
    "    batch_time = AverageMeter()\n",
    "    losses = AverageMeter()\n",
    "    top5accs = AverageMeter()\n",
    "\n",
    "    start = time.time()\n",
    "\n",
    "    references = list()  # references (true captions) for calculating BLEU-4 score\n",
    "    hypotheses = list()  # hypotheses (predictions)\n",
    "\n",
    "    # explicitly disable gradient calculation to avoid CUDA memory error\n",
    "    # solves the issue #57\n",
    "    with torch.no_grad():\n",
    "        # Batches\n",
    "#         for i, (imgs, caps, caplens, allcaps) in enumerate(val_loader):\n",
    "        for i, (bimgs, bx, bnts, bxlen, bnt, bnbtn, bnrow) in enumerate(iter_batch(\n",
    "            batch_size, images, valid_examples, shuffle=True, device=device)):\n",
    "            # Move to device, if available\n",
    "\n",
    "            # Forward prop.\n",
    "            if encoder is not None:\n",
    "                bimgs = encoder(bimgs)\n",
    "            scores, caps_sorted, decode_lengths, alphas, sort_ind = decoder(bimgs, bx, bxlen, device)\n",
    "\n",
    "            # Since we decoded starting with <start>, the targets are all words after <start>, up to <end>\n",
    "            targets = bnts\n",
    "\n",
    "            # Remove timesteps that we didn't decode at, or are pads\n",
    "            # pack_padded_sequence is an easy trick to do this\n",
    "            scores_copy = scores.clone()\n",
    "            scores, _ = pack_padded_sequence(scores, decode_lengths, batch_first=True)\n",
    "            targets, _ = pack_padded_sequence(targets, decode_lengths, batch_first=True)\n",
    "\n",
    "            # Calculate loss\n",
    "            loss = criterion(scores, targets)\n",
    "\n",
    "            # Add doubly stochastic attention regularization\n",
    "            loss += alpha_c * ((1. - alphas.sum(dim=1)) ** 2).mean()\n",
    "\n",
    "            # Keep track of metrics\n",
    "            losses.update(loss.item(), sum(decode_lengths))\n",
    "            top5 = accuracy(scores, targets, 1)\n",
    "            top5accs.update(top5, sum(decode_lengths))\n",
    "            batch_time.update(time.time() - start)\n",
    "\n",
    "            start = time.time()\n",
    "\n",
    "            if i % 10 == 0:\n",
    "                print('Validation: [{0}/{1}]\\t'\n",
    "                      'Batch Time {batch_time.val:.3f} ({batch_time.avg:.3f})\\t'\n",
    "                      'Loss {loss.val:.4f} ({loss.avg:.4f})\\t'\n",
    "                      'Top-5 Accuracy {top5.val:.3f} ({top5.avg:.3f})\\t'.format(i, len(valid_examples), batch_time=batch_time,\n",
    "                                                                                loss=losses, top5=top5accs))\n",
    "\n",
    "            # Store references (true captions), and hypothesis (prediction) for each image\n",
    "            # If for n images, we have n hypotheses, and references a, b, c... for each image, we need -\n",
    "            # references = [[ref1a, ref1b, ref1c], [ref2a, ref2b], ...], hypotheses = [hyp1, hyp2, ...]\n",
    "\n",
    "            # References\n",
    "#             allcaps = allcaps[sort_ind]  # because images were sorted in the decoder\n",
    "#             for j in range(allcaps.shape[0]):\n",
    "#                 img_caps = allcaps[j].tolist()\n",
    "#                 img_captions = list(\n",
    "#                     map(lambda c: [w for w in c if w not in {word_map['<program>'], word_map['<pad>']}],\n",
    "#                         img_caps))  # remove <start> and pads\n",
    "#                 references.append(img_captions)\n",
    "\n",
    "#             # Hypotheses\n",
    "#             _, preds = torch.max(scores_copy, dim=2)\n",
    "#             preds = preds.tolist()\n",
    "#             temp_preds = list()\n",
    "#             for j, p in enumerate(preds):\n",
    "#                 temp_preds.append(preds[j][:decode_lengths[j]])  # remove pads\n",
    "#             preds = temp_preds\n",
    "#             hypotheses.extend(preds)\n",
    "\n",
    "#             assert len(references) == len(hypotheses)\n",
    "\n",
    "        # Calculate BLEU-4 scores\n",
    "#         bleu4 = corpus_bleu(references, hypotheses)\n",
    "        bleu4 = 0.0\n",
    "        print(\n",
    "            '\\n * LOSS - {loss.avg:.3f}, TOP-5 ACCURACY - {top5.avg:.3f}, BLEU-4 - {bleu}\\n'.format(\n",
    "                loss=losses,\n",
    "                top5=top5accs,\n",
    "                bleu=bleu4))\n",
    "\n",
    "    return bleu4"
   ]
  },
  {
   "cell_type": "code",
   "execution_count": 8,
   "metadata": {},
   "outputs": [
    {
     "name": "stdout",
     "output_type": "stream",
     "text": [
      "BLSuper5(\n",
      "  (conv1): Conv2d(3, 16, kernel_size=(7, 7), stride=(1, 1))\n",
      "  (bn1): BatchNorm2d(16, eps=1e-05, momentum=0.9, affine=True, track_running_stats=True)\n",
      "  (pool1): MaxPool2d(kernel_size=3, stride=2, padding=0, dilation=1, ceil_mode=False)\n",
      "  (conv2): Conv2d(16, 32, kernel_size=(5, 5), stride=(1, 1))\n",
      "  (bn2): BatchNorm2d(32, eps=1e-05, momentum=0.9, affine=True, track_running_stats=True)\n",
      "  (pool2): MaxPool2d(kernel_size=3, stride=2, padding=0, dilation=1, ceil_mode=False)\n",
      "  (conv3): Conv2d(32, 64, kernel_size=(5, 5), stride=(1, 1))\n",
      "  (bn3): BatchNorm2d(64, eps=1e-05, momentum=0.9, affine=True, track_running_stats=True)\n",
      "  (pool3): MaxPool2d(kernel_size=3, stride=2, padding=0, dilation=1, ceil_mode=False)\n",
      "  (fc1): Linear(in_features=12160, out_features=1024, bias=True)\n",
      "  (bn4): BatchNorm2d(1024, eps=1e-05, momentum=0.9, affine=True, track_running_stats=True)\n",
      "  (word_embedding): Embedding(15, 100, padding_idx=0)\n",
      "  (lstm): LSTMNoEmbedding(\n",
      "    (lstm): LSTM(1124, 512, batch_first=True)\n",
      "  )\n",
      "  (lstm2token): Linear(in_features=512, out_features=15, bias=True)\n",
      ")\n"
     ]
    },
    {
     "data": {
      "application/vnd.jupyter.widget-view+json": {
       "model_id": "0ae1ffe396b642b8925c7c32effd4513",
       "version_major": 2,
       "version_minor": 0
      },
      "text/plain": [
       "HBox(children=(IntProgress(value=0, description='epoch--', max=40, style=ProgressStyle(description_width='init…"
      ]
     },
     "metadata": {},
     "output_type": "display_data"
    },
    {
     "data": {
      "application/vnd.jupyter.widget-view+json": {
       "model_id": "e7deb18f03784ef9847eb2816662db1b",
       "version_major": 2,
       "version_minor": 0
      },
      "text/plain": [
       "HBox(children=(IntProgress(value=0, description='training', max=520, style=ProgressStyle(description_width='in…"
      ]
     },
     "metadata": {},
     "output_type": "display_data"
    }
   ],
   "source": [
    "model = BLSuper5(img_h=120, img_w=192, img_repr_size=1024, dsl_vocab=vocab, dsl_embedding_dim=100, dsl_hidden_dim=512).to(device)\n",
    "print(model.train())\n",
    "\n",
    "optimizer = torch.optim.Adam(model.parameters(), lr=1e-3, amsgrad=True)\n",
    "scheduler = torch.optim.lr_scheduler.StepLR(optimizer, step_size=20, gamma=0.3)\n",
    "\n",
    "histories = train(model, scheduler, optimizer, images, (train_examples, valid_examples, test_examples), n_epoches=40, eval_test_freq=5, batch_size=100, device=device)"
   ]
  },
  {
   "cell_type": "markdown",
   "metadata": {},
   "source": [
    "#### Evaluate"
   ]
  },
  {
   "cell_type": "code",
   "execution_count": 17,
   "metadata": {},
   "outputs": [],
   "source": [
    "cpu_device = torch.device('cpu')"
   ]
  },
  {
   "cell_type": "code",
   "execution_count": 21,
   "metadata": {},
   "outputs": [
    {
     "data": {
      "text/plain": [
       "{'loss': 0.3753992021083832, 'accuracy': 0.8068370394955194}"
      ]
     },
     "execution_count": 21,
     "metadata": {},
     "output_type": "execute_result"
    }
   ],
   "source": [
    "checkpoint = torch.load(\"/home/rook/workspace/CSCI559/Project/sketch2code/runs/s05_exp/run_23/model.bin\")\n",
    "model2 = BLSuper5(img_h=150, img_w=240, img_repr_size=300, dsl_vocab=vocab, dsl_embedding_dim=100, dsl_hidden_dim=400)\n",
    "model2.load_state_dict(checkpoint['model'])\n",
    "eval(model2.to(device), images, valid_examples, device)"
   ]
  },
  {
   "cell_type": "code",
   "execution_count": 9,
   "metadata": {},
   "outputs": [],
   "source": [
    "render_engine = RemoteRenderEngine.get_instance(tags[0].to_html(), 480, 300)"
   ]
  },
  {
   "cell_type": "code",
   "execution_count": 26,
   "metadata": {},
   "outputs": [],
   "source": [
    "model2 = model2.to(cpu_device)"
   ]
  },
  {
   "cell_type": "code",
   "execution_count": 31,
   "metadata": {},
   "outputs": [
    {
     "name": "stdout",
     "output_type": "stream",
     "text": [
      ">>>>>>>>>>>>>>>>>>>>>>>>>>>>>>>>>>>>>>>>>>>>> 0\n",
      ">>>>>>>>>>>>>>>>>>>>>>>>>>>>>>>>>>>>>>>>>>>>> 1\n",
      ">>>>>>>>>>>>>>>>>>>>>>>>>>>>>>>>>>>>>>>>>>>>> 2\n",
      ">>>>>>>>>>>>>>>>>>>>>>>>>>>>>>>>>>>>>>>>>>>>> 3\n",
      ">>>>>>>>>>>>>>>>>>>>>>>>>>>>>>>>>>>>>>>>>>>>> 4\n",
      ">>>>>>>>>>>>>>>>>>>>>>>>>>>>>>>>>>>>>>>>>>>>> 5\n",
      ">>>>>>>>>>>>>>>>>>>>>>>>>>>>>>>>>>>>>>>>>>>>> 6\n",
      ">>>>>>>>>>>>>>>>>>>>>>>>>>>>>>>>>>>>>>>>>>>>> 7\n",
      ">>>>>>>>>>>>>>>>>>>>>>>>>>>>>>>>>>>>>>>>>>>>> 8\n",
      ">>>>>>>>>>>>>>>>>>>>>>>>>>>>>>>>>>>>>>>>>>>>> 9\n",
      ">>>>>>>>>>>>>>>>>>>>>>>>>>>>>>>>>>>>>>>>>>>>> 10\n",
      ">>>>>>>>>>>>>>>>>>>>>>>>>>>>>>>>>>>>>>>>>>>>> 11\n",
      ">>>>>>>>>>>>>>>>>>>>>>>>>>>>>>>>>>>>>>>>>>>>> 12\n",
      ">>>>>>>>>>>>>>>>>>>>>>>>>>>>>>>>>>>>>>>>>>>>> 13\n",
      ">>>>>>>>>>>>>>>>>>>>>>>>>>>>>>>>>>>>>>>>>>>>> 14\n",
      ">>>>>>>>>>>>>>>>>>>>>>>>>>>>>>>>>>>>>>>>>>>>> 15\n",
      ">>>>>>>>>>>>>>>>>>>>>>>>>>>>>>>>>>>>>>>>>>>>> 16\n",
      ">>>>>>>>>>>>>>>>>>>>>>>>>>>>>>>>>>>>>>>>>>>>> 17\n",
      ">>>>>>>>>>>>>>>>>>>>>>>>>>>>>>>>>>>>>>>>>>>>> 18\n",
      ">>>>>>>>>>>>>>>>>>>>>>>>>>>>>>>>>>>>>>>>>>>>> 19\n",
      ">>>>>>>>>>>>>>>>>>>>>>>>>>>>>>>>>>>>>>>>>>>>> 20\n",
      ">>>>>>>>>>>>>>>>>>>>>>>>>>>>>>>>>>>>>>>>>>>>> 21\n",
      ">>>>>>>>>>>>>>>>>>>>>>>>>>>>>>>>>>>>>>>>>>>>> 22\n",
      ">>>>>>>>>>>>>>>>>>>>>>>>>>>>>>>>>>>>>>>>>>>>> 23\n",
      ">>>>>>>>>>>>>>>>>>>>>>>>>>>>>>>>>>>>>>>>>>>>> 24\n",
      ">>>>>>>>>>>>>>>>>>>>>>>>>>>>>>>>>>>>>>>>>>>>> 25\n",
      ">>>>>>>>>>>>>>>>>>>>>>>>>>>>>>>>>>>>>>>>>>>>> 26\n",
      ">>>>>>>>>>>>>>>>>>>>>>>>>>>>>>>>>>>>>>>>>>>>> 27\n",
      ">>>>>>>>>>>>>>>>>>>>>>>>>>>>>>>>>>>>>>>>>>>>> 28\n",
      ">>>>>>>>>>>>>>>>>>>>>>>>>>>>>>>>>>>>>>>>>>>>> 29\n",
      ">>>>>>>>>>>>>>>>>>>>>>>>>>>>>>>>>>>>>>>>>>>>> 30\n",
      ">>>>>>>>>>>>>>>>>>>>>>>>>>>>>>>>>>>>>>>>>>>>> 31\n",
      ">>>>>>>>>>>>>>>>>>>>>>>>>>>>>>>>>>>>>>>>>>>>> 32\n",
      ">>>>>>>>>>>>>>>>>>>>>>>>>>>>>>>>>>>>>>>>>>>>> 33\n",
      ">>>>>>>>>>>>>>>>>>>>>>>>>>>>>>>>>>>>>>>>>>>>> 34\n",
      ">>>>>>>>>>>>>>>>>>>>>>>>>>>>>>>>>>>>>>>>>>>>> 35\n",
      ">>>>>>>>>>>>>>>>>>>>>>>>>>>>>>>>>>>>>>>>>>>>> 36\n",
      ">>>>>>>>>>>>>>>>>>>>>>>>>>>>>>>>>>>>>>>>>>>>> 37\n",
      ">>>>>>>>>>>>>>>>>>>>>>>>>>>>>>>>>>>>>>>>>>>>> 38\n",
      ">>>>>>>>>>>>>>>>>>>>>>>>>>>>>>>>>>>>>>>>>>>>> 39\n",
      ">>>>>>>>>>>>>>>>>>>>>>>>>>>>>>>>>>>>>>>>>>>>> 40\n",
      ">>>>>>>>>>>>>>>>>>>>>>>>>>>>>>>>>>>>>>>>>>>>> 41\n",
      ">>>>>>>>>>>>>>>>>>>>>>>>>>>>>>>>>>>>>>>>>>>>> 42\n",
      ">>>>>>>>>>>>>>>>>>>>>>>>>>>>>>>>>>>>>>>>>>>>> 43\n",
      ">>>>>>>>>>>>>>>>>>>>>>>>>>>>>>>>>>>>>>>>>>>>> 44\n",
      ">>>>>>>>>>>>>>>>>>>>>>>>>>>>>>>>>>>>>>>>>>>>> 45\n",
      ">>>>>>>>>>>>>>>>>>>>>>>>>>>>>>>>>>>>>>>>>>>>> 46\n",
      ">>>>>>>>>>>>>>>>>>>>>>>>>>>>>>>>>>>>>>>>>>>>> 47\n",
      ">>>>>>>>>>>>>>>>>>>>>>>>>>>>>>>>>>>>>>>>>>>>> 48\n",
      ">>>>>>>>>>>>>>>>>>>>>>>>>>>>>>>>>>>>>>>>>>>>> 49\n"
     ]
    }
   ],
   "source": [
    "next_token_func = wrap_next_token_func(lambda bimgs, bx, bxlen: model2(bimgs, bx, bxlen))\n",
    "results = synthesize(images[0].to(cpu_device), oimages[0], render_engine, ivocab, vocab, next_token_func, max_unexamined_program=3, top_k=5, beam_width=500, max_depth=50)"
   ]
  },
  {
   "cell_type": "code",
   "execution_count": 32,
   "metadata": {},
   "outputs": [
    {
     "name": "stdout",
     "output_type": "stream",
     "text": [
      "0.8461875\n",
      "['<program>', '<div class=\"container-fluid\">', '<div class=\"row\">', '<div class=\"col-3\">', '<div class=\"grey-background\">', '<button class=\"btn btn-danger\">', '</button>', '</div>', '</div>', '<div class=\"col-3\">', '<div class=\"grey-background\">', '<button class=\"btn btn-danger\">', '</button>', '</div>', '</div>', '<div class=\"col-3\">', '<div class=\"grey-background\">', '<button class=\"btn btn-warning\">', '</button>', '</div>', '</div>', '<div class=\"col-3\">', '<div class=\"grey-background\">', '<button class=\"btn btn-success\">', '</button>', '</div>', '</div>', '</div>', '<div class=\"row\">', '<div class=\"col-3\">', '<div class=\"grey-background\">', '<button class=\"btn btn-danger\">', '</button>', '</div>', '</div>', '<div class=\"col-3\">', '<div class=\"grey-background\">', '<button class=\"btn btn-danger\">', '</button>', '</div>', '</div>', '<div class=\"col-3\">', '<div class=\"grey-background\">', '<button class=\"btn btn-danger\">', '</button>', '</div>', '</div>', '<div class=\"col-3\">', '<div class=\"grey-background\">', '<button class=\"btn btn-warning\">', '</button>']\n"
     ]
    },
    {
     "data": {
      "text/plain": [
       "<matplotlib.image.AxesImage at 0x7fda9d336f98>"
      ]
     },
     "execution_count": 32,
     "metadata": {},
     "output_type": "execute_result"
    },
    {
     "data": {
      "image/png": "[encoded data removed]",
      "text/plain": [
       "<Figure size 432x288 with 1 Axes>"
      ]
     },
     "metadata": {
      "needs_background": "light"
     },
     "output_type": "display_data"
    }
   ],
   "source": [
    "print(results[0].quality)\n",
    "print([ivocab[w] for w in results[0].to_int_tokens(vocab)])\n",
    "plt.imshow(results[0].render_img(render_engine))"
   ]
  },
  {
   "cell_type": "code",
   "execution_count": null,
   "metadata": {},
   "outputs": [],
   "source": []
  },
  {
   "cell_type": "code",
   "execution_count": 11,
   "metadata": {},
   "outputs": [
    {
     "data": {
      "text/plain": [
       "{0: '<pad>',\n",
       " 1: '<program>',\n",
       " 2: '</program>',\n",
       " 3: '<div class=\"row\">',\n",
       " 4: '<div class=\"col-12\">',\n",
       " 5: '<div class=\"col-6\">',\n",
       " 6: '<div class=\"col-4\">',\n",
       " 7: '<div class=\"col-3\">',\n",
       " 8: '<div class=\"container-fluid\">',\n",
       " 9: '<div class=\"grey-background\">',\n",
       " 10: '</div>',\n",
       " 11: '<button class=\"btn btn-danger\">',\n",
       " 12: '<button class=\"btn btn-warning\">',\n",
       " 13: '<button class=\"btn btn-success\">',\n",
       " 14: '</button>'}"
      ]
     },
     "execution_count": 11,
     "metadata": {},
     "output_type": "execute_result"
    }
   ],
   "source": [
    "ivocab"
   ]
  },
  {
   "cell_type": "markdown",
   "metadata": {},
   "source": [
    "#### DEBUG the program\n",
    "\n",
    "Printing the image and allowing to discover next tags from the current program"
   ]
  },
  {
   "cell_type": "code",
   "execution_count": 37,
   "metadata": {},
   "outputs": [
    {
     "name": "stdout",
     "output_type": "stream",
     "text": [
      "['<program>', '<div class=\"container-fluid\">', '<div class=\"row\">', '<div class=\"col-4\">', '<div class=\"grey-background\">']\n",
      "token_idx | next_token_str                                    | prob\n",
      "       12 | <button class=\"btn btn-warning\">                  | 0.36612\n",
      "       13 | <button class=\"btn btn-success\">                  | 0.32509\n",
      "       11 | <button class=\"btn btn-danger\">                   | 0.30744\n",
      "        9 | <div class=\"grey-background\">                     | 0.00032\n",
      "       14 | </button>                                         | 0.00023\n",
      "        4 | <div class=\"col-12\">                              | 0.00023\n",
      "        6 | <div class=\"col-4\">                               | 0.00018\n",
      "        5 | <div class=\"col-6\">                               | 0.00009\n",
      "       10 | </div>                                            | 0.00007\n",
      "        2 | </program>                                        | 0.00006\n",
      "        7 | <div class=\"col-3\">                               | 0.00005\n",
      "        8 | <div class=\"container-fluid\">                     | 0.00005\n",
      "        0 | <pad>                                             | 0.00004\n",
      "        1 | <program>                                         | 0.00002\n",
      "        3 | <div class=\"row\">                                 | 0.00000\n"
     ]
    },
    {
     "data": {
      "image/png": "[encoded data removed]",
      "text/plain": [
       "<Figure size 432x288 with 1 Axes>"
      ]
     },
     "metadata": {
      "needs_background": "light"
     },
     "output_type": "display_data"
    }
   ],
   "source": [
    "plt.imshow(1 - images[0].clone().detach().cpu().numpy().transpose(1, 2, 0))\n",
    "program = HTMLProgram.from_int_tokens([1, 8, 3, 6, 9], ivocab)\n",
    "print([ivocab[w] for w in program.to_int_tokens(vocab)])\n",
    "\n",
    "program.print_next_tags(images[0], next_token_func, ivocab, vocab, device)"
   ]
  },
  {
   "cell_type": "code",
   "execution_count": 14,
   "metadata": {},
   "outputs": [],
   "source": [
    "program = HTMLProgram.from_int_tokens([8, 3, 5, 9, 11], ivocab)\n",
    "tag = program.to_linearized_tag()"
   ]
  },
  {
   "cell_type": "code",
   "execution_count": 95,
   "metadata": {},
   "outputs": [],
   "source": []
  },
  {
   "cell_type": "code",
   "execution_count": 119,
   "metadata": {},
   "outputs": [],
   "source": [
    "gui = render_engine.render_page(tag)"
   ]
  },
  {
   "cell_type": "code",
   "execution_count": 120,
   "metadata": {},
   "outputs": [],
   "source": [
    "gui = shrink_img(gui, 0.5)"
   ]
  },
  {
   "cell_type": "code",
   "execution_count": 121,
   "metadata": {},
   "outputs": [
    {
     "data": {
      "text/plain": [
       "(150, 240, 3)"
      ]
     },
     "execution_count": 121,
     "metadata": {},
     "output_type": "execute_result"
    }
   ],
   "source": [
    "gui.shape"
   ]
  },
  {
   "cell_type": "code",
   "execution_count": 122,
   "metadata": {},
   "outputs": [
    {
     "data": {
      "text/plain": [
       "<matplotlib.image.AxesImage at 0x7f647cffd128>"
      ]
     },
     "execution_count": 122,
     "metadata": {},
     "output_type": "execute_result"
    },
    {
     "data": {
      "image/png": "[encoded data removed]",
      "text/plain": [
       "<Figure size 432x288 with 1 Axes>"
      ]
     },
     "metadata": {
      "needs_background": "light"
     },
     "output_type": "display_data"
    }
   ],
   "source": [
    "plt.imshow(gui)"
   ]
  },
  {
   "cell_type": "code",
   "execution_count": 123,
   "metadata": {},
   "outputs": [],
   "source": [
    "ogui = shrink_img(oimages[0], 0.5)"
   ]
  },
  {
   "cell_type": "code",
   "execution_count": 124,
   "metadata": {},
   "outputs": [
    {
     "data": {
      "text/plain": [
       "<matplotlib.image.AxesImage at 0x7f647cf7c4a8>"
      ]
     },
     "execution_count": 124,
     "metadata": {},
     "output_type": "execute_result"
    },
    {
     "data": {
      "image/png": "[encoded data removed]",
      "text/plain": [
       "<Figure size 432x288 with 1 Axes>"
      ]
     },
     "metadata": {
      "needs_background": "light"
     },
     "output_type": "display_data"
    }
   ],
   "source": [
    "plt.imshow(ogui)"
   ]
  },
  {
   "cell_type": "code",
   "execution_count": 125,
   "metadata": {},
   "outputs": [
    {
     "data": {
      "text/plain": [
       "<matplotlib.image.AxesImage at 0x7f647ceea3c8>"
      ]
     },
     "execution_count": 125,
     "metadata": {},
     "output_type": "execute_result"
    },
    {
     "data": {
      "image/png": "[encoded data removed]",
      "text/plain": [
       "<Figure size 432x288 with 1 Axes>"
      ]
     },
     "metadata": {
      "needs_background": "light"
     },
     "output_type": "display_data"
    }
   ],
   "source": [
    "plt.imshow((gui == ogui).astype(np.float))"
   ]
  },
  {
   "cell_type": "code",
   "execution_count": 126,
   "metadata": {},
   "outputs": [
    {
     "data": {
      "text/plain": [
       "78933"
      ]
     },
     "execution_count": 126,
     "metadata": {},
     "output_type": "execute_result"
    }
   ],
   "source": [
    "(gui == ogui).sum()"
   ]
  },
  {
   "cell_type": "code",
   "execution_count": null,
   "metadata": {},
   "outputs": [],
   "source": []
  }
 ],
 "metadata": {
  "kernelspec": {
   "display_name": "sketch2code",
   "language": "python",
   "name": "sketch2code"
  },
  "language_info": {
   "codemirror_mode": {
    "name": "ipython",
    "version": 3
   },
   "file_extension": ".py",
   "mimetype": "text/x-python",
   "name": "python",
   "nbconvert_exporter": "python",
   "pygments_lexer": "ipython3",
   "version": "3.7.1"
  }
 },
 "nbformat": 4,
 "nbformat_minor": 2
}
