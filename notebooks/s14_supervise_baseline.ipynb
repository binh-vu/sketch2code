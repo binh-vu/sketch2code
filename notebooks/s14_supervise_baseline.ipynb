{
 "cells": [
  {
   "cell_type": "code",
   "execution_count": 1,
   "metadata": {},
   "outputs": [],
   "source": [
    "import cv2\n",
    "import torch\n",
    "import h5py\n",
    "import numpy as np\n",
    "import imageio\n",
    "from tqdm import tqdm\n",
    "import matplotlib.pyplot as plt\n",
    "import time\n",
    "from collections import defaultdict\n",
    "\n",
    "%matplotlib inline\n",
    "plt.rcParams[\"figure.figsize\"] = (10.0, 8.0) # set default size of plots\n",
    "plt.rcParams[\"image.interpolation\"] = \"nearest\"\n",
    "plt.rcParams[\"image.cmap\"] = \"gray\"\n",
    "\n",
    "%load_ext autoreload\n",
    "%autoreload 2"
   ]
  },
  {
   "cell_type": "code",
   "execution_count": 18,
   "metadata": {},
   "outputs": [],
   "source": [
    "%reload_ext autoreload\n",
    "\n",
    "from sketch2code.data_model import *\n",
    "from sketch2code.datasets import *\n",
    "from sketch2code.helpers import *\n",
    "from sketch2code.synthesize_program import *\n",
    "from sketch2code.methods.lstm import *\n",
    "from s05_supervise_baseline import *\n",
    "from s01_toy_img_feature import make_vocab as make_img_vocab"
   ]
  },
  {
   "cell_type": "markdown",
   "metadata": {},
   "source": [
    "### Purpose\n",
    "\n",
    "Supervised for program synthesis"
   ]
  },
  {
   "cell_type": "code",
   "execution_count": 3,
   "metadata": {},
   "outputs": [
    {
     "data": {
      "text/plain": [
       "device(type='cuda')"
      ]
     },
     "execution_count": 3,
     "metadata": {},
     "output_type": "execute_result"
    }
   ],
   "source": [
    "device = torch.device(\"cuda\" if torch.cuda.is_available() else \"cpu\")\n",
    "device"
   ]
  },
  {
   "cell_type": "code",
   "execution_count": 4,
   "metadata": {},
   "outputs": [
    {
     "name": "stdout",
     "output_type": "stream",
     "text": [
      "#examples 1750\n"
     ]
    },
    {
     "data": {
      "image/png": "[encoded data removed]",
      "text/plain": [
       "<Figure size 432x288 with 1 Axes>"
      ]
     },
     "metadata": {
      "needs_background": "light"
     },
     "output_type": "display_data"
    }
   ],
   "source": [
    "tags, oimages = load_dataset(\"toy\")\n",
    "print(\"#examples\", len(tags))\n",
    "\n",
    "def preprocess_img():\n",
    "    global oimages\n",
    "    return [shrink_img(img, 0.4, cv2.INTER_NEAREST).transpose((2, 0, 1)) for img in norm_rgb_imgs(oimages[:])]\n",
    "\n",
    "images = cache_arrays(\"toy.shrink.imgs\", preprocess_img)\n",
    "plt.imshow(1 - images[0].transpose(1, 2, 0))\n",
    "images = torch.tensor(images, device=device)"
   ]
  },
  {
   "cell_type": "markdown",
   "metadata": {},
   "source": [
    "### Prepare datasets"
   ]
  },
  {
   "cell_type": "code",
   "execution_count": 10,
   "metadata": {},
   "outputs": [
    {
     "name": "stdout",
     "output_type": "stream",
     "text": [
      "#examples 1250\n",
      "#examples 250\n",
      "#examples 250\n"
     ]
    }
   ],
   "source": [
    "vocab, ivocab = make_toy_vocab()\n",
    "min_length = 10\n",
    "\n",
    "def get_datasets():\n",
    "    global images\n",
    "    assert len(images) == len(tags)\n",
    "    indices = list(range(len(images)))\n",
    "    \n",
    "    train_examples = make_dataset(indices[:1250], tags, vocab, min_length)\n",
    "    valid_examples = make_dataset(indices[1250:1500], tags, vocab, min_length)\n",
    "    test_examples = make_dataset(indices[1500:], tags, vocab, min_length)\n",
    "\n",
    "    return train_examples, valid_examples, test_examples\n",
    "\n",
    "train_examples, valid_examples, test_examples = get_datasets()"
   ]
  },
  {
   "cell_type": "code",
   "execution_count": 20,
   "metadata": {},
   "outputs": [
    {
     "data": {
      "application/vnd.jupyter.widget-view+json": {
       "model_id": "2eafdee7831c41ef904386282cd44b8e",
       "version_major": 2,
       "version_minor": 0
      },
      "text/plain": [
       "HBox(children=(IntProgress(value=0, max=250), HTML(value='')))"
      ]
     },
     "metadata": {},
     "output_type": "display_data"
    },
    {
     "name": "stdout",
     "output_type": "stream",
     "text": [
      "\n"
     ]
    },
    {
     "data": {
      "application/vnd.jupyter.widget-view+json": {
       "model_id": "ed03baf3c07f46fdb701210ffff3ce19",
       "version_major": 2,
       "version_minor": 0
      },
      "text/plain": [
       "HBox(children=(IntProgress(value=0, max=250), HTML(value='')))"
      ]
     },
     "metadata": {},
     "output_type": "display_data"
    },
    {
     "name": "stdout",
     "output_type": "stream",
     "text": [
      "\n"
     ]
    }
   ],
   "source": [
    "# TODO: uncomment to double check if the datasets are correct\n",
    "# render_engine = RemoteRenderEngine.get_instance(tags[0].to_html(), 480, 300)\n",
    "# example2img = lambda e: HTMLProgram.from_int_tokens(e.context_tokens, ivocab).render_img(render_engine)\n",
    "# verify_dataset(oimages, train_examples, example2img)\n",
    "# verify_dataset(oimages, valid_examples, example2img)\n",
    "# verify_dataset(oimages, test_examples, example2img)"
   ]
  },
  {
   "cell_type": "markdown",
   "metadata": {},
   "source": [
    "### Define the model"
   ]
  },
  {
   "cell_type": "code",
   "execution_count": 33,
   "metadata": {},
   "outputs": [],
   "source": [
    "class BLSuper5(nn.Module):\n",
    "    \n",
    "    def __init__(self, img_h: int, img_w: int, img_repr_size: int, dsl_vocab: Dict[int, str], dsl_embedding_dim: int, dsl_hidden_dim: int):\n",
    "        super().__init__()\n",
    "        self.img_w = img_w\n",
    "        self.img_h = img_h\n",
    "        self.img_repr_size = img_repr_size\n",
    "        self.dsl_vocab = dsl_vocab\n",
    "        self.dsl_hidden_dim = dsl_hidden_dim\n",
    "        self.dsl_embedding_dim = dsl_embedding_dim\n",
    "\n",
    "        self.__build_model()\n",
    "    \n",
    "    def __build_model(self):\n",
    "        # network compute features of target image\n",
    "        self.conv1 = nn.Conv2d(3, 16, kernel_size=7, stride=1)\n",
    "        self.bn1 = nn.BatchNorm2d(16, momentum=0.9)\n",
    "        self.pool1 = nn.MaxPool2d(kernel_size=3, stride=2)\n",
    "\n",
    "        self.conv2 = nn.Conv2d(16, 32, kernel_size=5, stride=1)\n",
    "        self.bn2 = nn.BatchNorm2d(32, momentum=0.9)\n",
    "        self.pool2 = nn.MaxPool2d(kernel_size=3, stride=2)\n",
    "        \n",
    "        self.conv3 = nn.Conv2d(32, 64, kernel_size=5, stride=1)\n",
    "        self.bn3 = nn.BatchNorm2d(64, momentum=0.9)\n",
    "        self.pool3 = nn.MaxPool2d(kernel_size=3, stride=2)\n",
    "        \n",
    "        imgsize = [self.img_h, self.img_w]\n",
    "        for i, s in enumerate(imgsize):\n",
    "            s = conv2d_size_out(s, 7, 1)\n",
    "            s = pool2d_size_out(s, 3, 2)\n",
    "            s = conv2d_size_out(s, 5, 1)\n",
    "            s = pool2d_size_out(s, 3, 2)\n",
    "            s = conv2d_size_out(s, 5, 1)\n",
    "            s = pool2d_size_out(s, 3, 2)\n",
    "            imgsize[i] = s\n",
    "        \n",
    "        linear_input_size = imgsize[0] * imgsize[1] * 64\n",
    "        \n",
    "        self.fc1 = nn.Linear(linear_input_size, self.img_repr_size)\n",
    "        self.bn4 = nn.BatchNorm2d(self.img_repr_size, momentum=0.9)\n",
    "        \n",
    "        # lstm that compute the context of the program\n",
    "        self.word_embedding = nn.Embedding(\n",
    "            num_embeddings=len(self.dsl_vocab), embedding_dim=self.dsl_embedding_dim, padding_idx=vocab['<pad>'])\n",
    "        self.lstm = LSTMNoEmbedding(\n",
    "            input_size=self.dsl_embedding_dim + self.img_repr_size,\n",
    "            hidden_size=self.dsl_hidden_dim,\n",
    "            n_layers=1)\n",
    "        self.lstm2token = nn.Linear(self.dsl_hidden_dim, len(self.dsl_vocab))\n",
    "\n",
    "    def forward(self, x1, x2, x2_lens):\n",
    "        \"\"\"\n",
    "            @x1: desired images (batch: N x C x W x H)\n",
    "            @x2: current programs (batch: N x T)\n",
    "            @x2_lens: lengths of current programs (N)\n",
    "        \"\"\"\n",
    "        batch_size = x2_lens.shape[0]\n",
    "        \n",
    "        # STEP 1: compute output from CNN\n",
    "        # X is N x C x W x H\n",
    "        x1 = self.pool1(F.selu(self.bn1(self.conv1(x1))))\n",
    "        x1 = self.pool2(F.selu(self.bn2(self.conv2(x1))))\n",
    "        x1 = self.pool3(F.selu(self.bn3(self.conv3(x1))))\n",
    "        \n",
    "        # flatten to N x (C * W * H)\n",
    "        x1 = x1.view(batch_size, -1)\n",
    "        x1 = F.relu(self.fc1(x1))\n",
    "        \n",
    "        # STEP 2: compute feature from lstm\n",
    "        x2 = self.word_embedding(x2)\n",
    "        x1 = x1.view(batch_size, 1, self.img_repr_size).expand(batch_size, x2.shape[1], x1.shape[1])\n",
    "        x2 = torch.cat([x1, x2], dim=2)\n",
    "        x2, (hn, cn) = self.lstm(x2, x2_lens, self.lstm.init_hidden(x2, batch_size))\n",
    "        # flatten from N x T x H to N x (T * H)\n",
    "        hn = hn.view(batch_size, -1)\n",
    "        # flatten from N x T x H to (N * T) x H\n",
    "        x2 = x2.contiguous().view(-1, self.dsl_hidden_dim)\n",
    "        nts = F.log_softmax(self.lstm2token(x2), dim=1)\n",
    "        return nts        "
   ]
  },
  {
   "cell_type": "code",
   "execution_count": 34,
   "metadata": {},
   "outputs": [
    {
     "name": "stdout",
     "output_type": "stream",
     "text": [
      "BLSuper5(\n",
      "  (conv1): Conv2d(3, 16, kernel_size=(7, 7), stride=(1, 1))\n",
      "  (bn1): BatchNorm2d(16, eps=1e-05, momentum=0.9, affine=True, track_running_stats=True)\n",
      "  (pool1): MaxPool2d(kernel_size=3, stride=2, padding=0, dilation=1, ceil_mode=False)\n",
      "  (conv2): Conv2d(16, 32, kernel_size=(5, 5), stride=(1, 1))\n",
      "  (bn2): BatchNorm2d(32, eps=1e-05, momentum=0.9, affine=True, track_running_stats=True)\n",
      "  (pool2): MaxPool2d(kernel_size=3, stride=2, padding=0, dilation=1, ceil_mode=False)\n",
      "  (conv3): Conv2d(32, 64, kernel_size=(5, 5), stride=(1, 1))\n",
      "  (bn3): BatchNorm2d(64, eps=1e-05, momentum=0.9, affine=True, track_running_stats=True)\n",
      "  (pool3): MaxPool2d(kernel_size=3, stride=2, padding=0, dilation=1, ceil_mode=False)\n",
      "  (fc1): Linear(in_features=12160, out_features=1024, bias=True)\n",
      "  (bn4): BatchNorm2d(1024, eps=1e-05, momentum=0.9, affine=True, track_running_stats=True)\n",
      "  (word_embedding): Embedding(15, 100, padding_idx=0)\n",
      "  (lstm): LSTMNoEmbedding(\n",
      "    (lstm): LSTM(1124, 512, batch_first=True)\n",
      "  )\n",
      "  (lstm2token): Linear(in_features=512, out_features=15, bias=True)\n",
      ")\n"
     ]
    },
    {
     "data": {
      "application/vnd.jupyter.widget-view+json": {
       "model_id": "20fa534cb6084cd09744dcee9b6e93b6",
       "version_major": 2,
       "version_minor": 0
      },
      "text/plain": [
       "HBox(children=(IntProgress(value=0, description='epoch--', style=ProgressStyle(description_width='initial')), …"
      ]
     },
     "metadata": {},
     "output_type": "display_data"
    },
    {
     "data": {
      "application/vnd.jupyter.widget-view+json": {
       "model_id": "9a6b1c0c02554ded8717b5f0b562c21f",
       "version_major": 2,
       "version_minor": 0
      },
      "text/plain": [
       "HBox(children=(IntProgress(value=0, description='training', max=1300, style=ProgressStyle(description_width='i…"
      ]
     },
     "metadata": {},
     "output_type": "display_data"
    }
   ],
   "source": [
    "model = BLSuper5(img_h=120, img_w=192, img_repr_size=1024, dsl_vocab=vocab, dsl_embedding_dim=100, dsl_hidden_dim=512).to(device)\n",
    "print(model.train())\n",
    "\n",
    "optimizer = torch.optim.Adam(model.parameters(), lr=5e-4, amsgrad=True)\n",
    "scheduler = torch.optim.lr_scheduler.StepLR(optimizer, step_size=20, gamma=0.3)\n",
    "\n",
    "histories = train(model, scheduler, optimizer, images, (train_examples, valid_examples, test_examples), n_epoches=100, eval_test_freq=5, batch_size=100, device=device)"
   ]
  },
  {
   "cell_type": "markdown",
   "metadata": {},
   "source": [
    "#### Evaluate"
   ]
  },
  {
   "cell_type": "code",
   "execution_count": 37,
   "metadata": {},
   "outputs": [],
   "source": [
    "cpu_device = torch.device('cpu')"
   ]
  },
  {
   "cell_type": "code",
   "execution_count": 48,
   "metadata": {},
   "outputs": [],
   "source": [
    "checkpoint = torch.load(\"/home/rook/workspace/CSCI559/Project/sketch2code/runs/s05_exp/run_38/model.bin\")\n",
    "model2 = BLSuper5(img_h=120, img_w=192, img_repr_size=1024, dsl_vocab=vocab, dsl_embedding_dim=100, dsl_hidden_dim=512).to(cpu_device)\n",
    "model2.load_state_dict(checkpoint['model'])\n",
    "# eval(model2, images, valid_examples, device)"
   ]
  },
  {
   "cell_type": "code",
   "execution_count": 32,
   "metadata": {},
   "outputs": [
    {
     "data": {
      "application/vnd.jupyter.widget-view+json": {
       "model_id": "d538338eaecc4ad59b982fd0eb755226",
       "version_major": 2,
       "version_minor": 0
      },
      "text/plain": [
       "HBox(children=(IntProgress(value=1, bar_style='info', max=1), HTML(value='')))"
      ]
     },
     "metadata": {},
     "output_type": "display_data"
    },
    {
     "data": {
      "application/vnd.jupyter.widget-view+json": {
       "model_id": "054bab9a3c1a4f5886973ccdf659ddc3",
       "version_major": 2,
       "version_minor": 0
      },
      "text/plain": [
       "HBox(children=(IntProgress(value=0, max=200), HTML(value='')))"
      ]
     },
     "metadata": {},
     "output_type": "display_data"
    },
    {
     "data": {
      "application/vnd.jupyter.widget-view+json": {
       "model_id": "5b8ee1c79daf47bd88fa9b74d9986314",
       "version_major": 2,
       "version_minor": 0
      },
      "text/plain": [
       "HBox(children=(IntProgress(value=0, max=200), HTML(value='')))"
      ]
     },
     "metadata": {},
     "output_type": "display_data"
    },
    {
     "data": {
      "application/vnd.jupyter.widget-view+json": {
       "model_id": "2210ae9b81e74b4ca74d072620e807c4",
       "version_major": 2,
       "version_minor": 0
      },
      "text/plain": [
       "HBox(children=(IntProgress(value=0, max=200), HTML(value='')))"
      ]
     },
     "metadata": {},
     "output_type": "display_data"
    },
    {
     "data": {
      "application/vnd.jupyter.widget-view+json": {
       "model_id": "97110d047eef43a48c3b78199b2df85b",
       "version_major": 2,
       "version_minor": 0
      },
      "text/plain": [
       "HBox(children=(IntProgress(value=0, max=200), HTML(value='')))"
      ]
     },
     "metadata": {},
     "output_type": "display_data"
    },
    {
     "data": {
      "application/vnd.jupyter.widget-view+json": {
       "model_id": "4cad80eed3c04241807f52a3ad74c66f",
       "version_major": 2,
       "version_minor": 0
      },
      "text/plain": [
       "HBox(children=(IntProgress(value=0, max=200), HTML(value='')))"
      ]
     },
     "metadata": {},
     "output_type": "display_data"
    },
    {
     "data": {
      "application/vnd.jupyter.widget-view+json": {
       "model_id": "1c1674e0204a4175acc257b347490b01",
       "version_major": 2,
       "version_minor": 0
      },
      "text/plain": [
       "HBox(children=(IntProgress(value=0, max=200), HTML(value='')))"
      ]
     },
     "metadata": {},
     "output_type": "display_data"
    },
    {
     "data": {
      "application/vnd.jupyter.widget-view+json": {
       "model_id": "826f64a677a842f8b766b829a617267e",
       "version_major": 2,
       "version_minor": 0
      },
      "text/plain": [
       "HBox(children=(IntProgress(value=0, max=200), HTML(value='')))"
      ]
     },
     "metadata": {},
     "output_type": "display_data"
    },
    {
     "data": {
      "application/vnd.jupyter.widget-view+json": {
       "model_id": "2ca72bf7ff2746aea64f5436b0be2bc1",
       "version_major": 2,
       "version_minor": 0
      },
      "text/plain": [
       "HBox(children=(IntProgress(value=1, bar_style='info', max=1), HTML(value='')))"
      ]
     },
     "metadata": {},
     "output_type": "display_data"
    },
    {
     "data": {
      "application/vnd.jupyter.widget-view+json": {
       "model_id": "66f2ec812a6d47acb1e300cb587571fd",
       "version_major": 2,
       "version_minor": 0
      },
      "text/plain": [
       "HBox(children=(IntProgress(value=0, max=200), HTML(value='')))"
      ]
     },
     "metadata": {},
     "output_type": "display_data"
    },
    {
     "data": {
      "application/vnd.jupyter.widget-view+json": {
       "model_id": "ec5390919d444e59a10b731774fe1cc4",
       "version_major": 2,
       "version_minor": 0
      },
      "text/plain": [
       "HBox(children=(IntProgress(value=0, max=200), HTML(value='')))"
      ]
     },
     "metadata": {},
     "output_type": "display_data"
    },
    {
     "data": {
      "application/vnd.jupyter.widget-view+json": {
       "model_id": "4846ec6d24234c719a57ed35ebd2f029",
       "version_major": 2,
       "version_minor": 0
      },
      "text/plain": [
       "HBox(children=(IntProgress(value=1, bar_style='info', max=1), HTML(value='')))"
      ]
     },
     "metadata": {},
     "output_type": "display_data"
    },
    {
     "data": {
      "application/vnd.jupyter.widget-view+json": {
       "model_id": "045a8ddc11a34fafbd21cac92ee42abe",
       "version_major": 2,
       "version_minor": 0
      },
      "text/plain": [
       "HBox(children=(IntProgress(value=0, max=200), HTML(value='')))"
      ]
     },
     "metadata": {},
     "output_type": "display_data"
    },
    {
     "data": {
      "application/vnd.jupyter.widget-view+json": {
       "model_id": "a62762ede4954047894243106e0e45da",
       "version_major": 2,
       "version_minor": 0
      },
      "text/plain": [
       "HBox(children=(IntProgress(value=0, max=200), HTML(value='')))"
      ]
     },
     "metadata": {},
     "output_type": "display_data"
    }
   ],
   "source": [
    "# TODO: uncomment to double check if iter_batch function is correct\n",
    "# render_engine = RemoteRenderEngine.get_instance(tags[0].to_html(), 480, 300)\n",
    "# for examples in [train_examples, valid_examples, test_examples]:\n",
    "#     for bimgs, bx, bnx, bxlen, sorted_idx in tqdm(iter_batch(200, images, examples, True, device)):\n",
    "#         for gimg, x in tqdm(zip(bimgs, bx), total=200):\n",
    "#             p = HTMLProgram.from_int_tokens([w for w in x.tolist() if w > 0], ivocab)\n",
    "\n",
    "#             gimg = gimg.permute((1, 2, 0)).clone().cpu().numpy()\n",
    "#             eimg = shrink_img(norm_rgb_imgs(p.render_img(render_engine)), 0.4, cv2.INTER_NEAREST)\n",
    "#             matches = ((eimg == gimg).sum() / np.prod(eimg.shape))\n",
    "#             assert matches == 1.0"
   ]
  },
  {
   "cell_type": "code",
   "execution_count": 57,
   "metadata": {},
   "outputs": [
    {
     "name": "stdout",
     "output_type": "stream",
     "text": [
      ">>>>>>>>>>>>>>>>>>>>>>>>>>>>>>>>>>>>>>>>>>>>> 0\n",
      ">>>>>>>>>>>>>>>>>>>>>>>>>>>>>>>>>>>>>>>>>>>>> 1\n",
      ">>>>>>>>>>>>>>>>>>>>>>>>>>>>>>>>>>>>>>>>>>>>> 2\n",
      ">>>>>>>>>>>>>>>>>>>>>>>>>>>>>>>>>>>>>>>>>>>>> 3\n",
      ">>>>>>>>>>>>>>>>>>>>>>>>>>>>>>>>>>>>>>>>>>>>> 4\n",
      ">>>>>>>>>>>>>>>>>>>>>>>>>>>>>>>>>>>>>>>>>>>>> 5\n",
      ">>>>>>>>>>>>>>>>>>>>>>>>>>>>>>>>>>>>>>>>>>>>> 6\n",
      ">>>>>>>>>>>>>>>>>>>>>>>>>>>>>>>>>>>>>>>>>>>>> 7\n",
      ">>>>>>>>>>>>>>>>>>>>>>>>>>>>>>>>>>>>>>>>>>>>> 8\n",
      ">>>>>>>>>>>>>>>>>>>>>>>>>>>>>>>>>>>>>>>>>>>>> 9\n",
      ">>>>>>>>>>>>>>>>>>>>>>>>>>>>>>>>>>>>>>>>>>>>> 10\n",
      ">>>>>>>>>>>>>>>>>>>>>>>>>>>>>>>>>>>>>>>>>>>>> 11\n",
      ">>>>>>>>>>>>>>>>>>>>>>>>>>>>>>>>>>>>>>>>>>>>> 12\n",
      ">>>>>>>>>>>>>>>>>>>>>>>>>>>>>>>>>>>>>>>>>>>>> 13\n",
      ">>>>>>>>>>>>>>>>>>>>>>>>>>>>>>>>>>>>>>>>>>>>> 14\n",
      ">>>>>>>>>>>>>>>>>>>>>>>>>>>>>>>>>>>>>>>>>>>>> 15\n",
      ">>>>>>>>>>>>>>>>>>>>>>>>>>>>>>>>>>>>>>>>>>>>> 16\n",
      ">>>>>>>>>>>>>>>>>>>>>>>>>>>>>>>>>>>>>>>>>>>>> 17\n",
      ">>>>>>>>>>>>>>>>>>>>>>>>>>>>>>>>>>>>>>>>>>>>> 18\n",
      ">>>>>>>>>>>>>>>>>>>>>>>>>>>>>>>>>>>>>>>>>>>>> 19\n",
      ">>>>>>>>>>>>>>>>>>>>>>>>>>>>>>>>>>>>>>>>>>>>> 20\n",
      ">>>>>>>>>>>>>>>>>>>>>>>>>>>>>>>>>>>>>>>>>>>>> 21\n",
      ">>>>>>>>>>>>>>>>>>>>>>>>>>>>>>>>>>>>>>>>>>>>> 22\n",
      ">>>>>>>>>>>>>>>>>>>>>>>>>>>>>>>>>>>>>>>>>>>>> 23\n",
      ">>>>>>>>>>>>>>>>>>>>>>>>>>>>>>>>>>>>>>>>>>>>> 24\n",
      ">>>>>>>>>>>>>>>>>>>>>>>>>>>>>>>>>>>>>>>>>>>>> 25\n",
      ">>>>>>>>>>>>>>>>>>>>>>>>>>>>>>>>>>>>>>>>>>>>> 26\n",
      ">>>>>>>>>>>>>>>>>>>>>>>>>>>>>>>>>>>>>>>>>>>>> 27\n",
      ">>>>>>>>>>>>>>>>>>>>>>>>>>>>>>>>>>>>>>>>>>>>> 28\n",
      ">>>>>>>>>>>>>>>>>>>>>>>>>>>>>>>>>>>>>>>>>>>>> 29\n",
      ">>>>>>>>>>>>>>>>>>>>>>>>>>>>>>>>>>>>>>>>>>>>> 30\n",
      ">>>>>>>>>>>>>>>>>>>>>>>>>>>>>>>>>>>>>>>>>>>>> 31\n",
      ">>>>>>>>>>>>>>>>>>>>>>>>>>>>>>>>>>>>>>>>>>>>> 32\n",
      ">>>>>>>>>>>>>>>>>>>>>>>>>>>>>>>>>>>>>>>>>>>>> 33\n",
      ">>>>>>>>>>>>>>>>>>>>>>>>>>>>>>>>>>>>>>>>>>>>> 34\n",
      ">>>>>>>>>>>>>>>>>>>>>>>>>>>>>>>>>>>>>>>>>>>>> 35\n",
      ">>>>>>>>>>>>>>>>>>>>>>>>>>>>>>>>>>>>>>>>>>>>> 36\n",
      ">>>>>>>>>>>>>>>>>>>>>>>>>>>>>>>>>>>>>>>>>>>>> 37\n",
      ">>>>>>>>>>>>>>>>>>>>>>>>>>>>>>>>>>>>>>>>>>>>> 38\n",
      ">>>>>>>>>>>>>>>>>>>>>>>>>>>>>>>>>>>>>>>>>>>>> 39\n",
      ">>>>>>>>>>>>>>>>>>>>>>>>>>>>>>>>>>>>>>>>>>>>> 40\n",
      ">>>>>>>>>>>>>>>>>>>>>>>>>>>>>>>>>>>>>>>>>>>>> 41\n",
      ">>>>>>>>>>>>>>>>>>>>>>>>>>>>>>>>>>>>>>>>>>>>> 42\n",
      ">>>>>>>>>>>>>>>>>>>>>>>>>>>>>>>>>>>>>>>>>>>>> 43\n",
      ">>>>>>>>>>>>>>>>>>>>>>>>>>>>>>>>>>>>>>>>>>>>> 44\n",
      ">>>>>>>>>>>>>>>>>>>>>>>>>>>>>>>>>>>>>>>>>>>>> 45\n",
      ">>>>>>>>>>>>>>>>>>>>>>>>>>>>>>>>>>>>>>>>>>>>> 46\n",
      ">>>>>>>>>>>>>>>>>>>>>>>>>>>>>>>>>>>>>>>>>>>>> 47\n",
      ">>>>>>>>>>>>>>>>>>>>>>>>>>>>>>>>>>>>>>>>>>>>> 48\n",
      ">>>>>>>>>>>>>>>>>>>>>>>>>>>>>>>>>>>>>>>>>>>>> 49\n",
      ">>>>>>>>>>>>>>>>>>>>>>>>>>>>>>>>>>>>>>>>>>>>> 50\n",
      ">>>>>>>>>>>>>>>>>>>>>>>>>>>>>>>>>>>>>>>>>>>>> 51\n",
      ">>>>>>>>>>>>>>>>>>>>>>>>>>>>>>>>>>>>>>>>>>>>> 52\n",
      ">>>>>>>>>>>>>>>>>>>>>>>>>>>>>>>>>>>>>>>>>>>>> 53\n",
      ">>>>>>>>>>>>>>>>>>>>>>>>>>>>>>>>>>>>>>>>>>>>> 54\n",
      ">>>>>>>>>>>>>>>>>>>>>>>>>>>>>>>>>>>>>>>>>>>>> 55\n",
      ">>>>>>>>>>>>>>>>>>>>>>>>>>>>>>>>>>>>>>>>>>>>> 56\n",
      ">>>>>>>>>>>>>>>>>>>>>>>>>>>>>>>>>>>>>>>>>>>>> 57\n",
      ">>>>>>>>>>>>>>>>>>>>>>>>>>>>>>>>>>>>>>>>>>>>> 58\n",
      ">>>>>>>>>>>>>>>>>>>>>>>>>>>>>>>>>>>>>>>>>>>>> 59\n",
      ">>>>>>>>>>>>>>>>>>>>>>>>>>>>>>>>>>>>>>>>>>>>> 60\n",
      ">>>>>>>>>>>>>>>>>>>>>>>>>>>>>>>>>>>>>>>>>>>>> 61\n",
      ">>>>>>>>>>>>>>>>>>>>>>>>>>>>>>>>>>>>>>>>>>>>> 62\n",
      ">>>>>>>>>>>>>>>>>>>>>>>>>>>>>>>>>>>>>>>>>>>>> 63\n",
      ">>>>>>>>>>>>>>>>>>>>>>>>>>>>>>>>>>>>>>>>>>>>> 64\n",
      ">>>>>>>>>>>>>>>>>>>>>>>>>>>>>>>>>>>>>>>>>>>>> 65\n",
      ">>>>>>>>>>>>>>>>>>>>>>>>>>>>>>>>>>>>>>>>>>>>> 66\n",
      ">>>>>>>>>>>>>>>>>>>>>>>>>>>>>>>>>>>>>>>>>>>>> 67\n",
      ">>>>>>>>>>>>>>>>>>>>>>>>>>>>>>>>>>>>>>>>>>>>> 68\n",
      ">>>>>>>>>>>>>>>>>>>>>>>>>>>>>>>>>>>>>>>>>>>>> 69\n",
      ">>>>>>>>>>>>>>>>>>>>>>>>>>>>>>>>>>>>>>>>>>>>> 70\n",
      ">>>>>>>>>>>>>>>>>>>>>>>>>>>>>>>>>>>>>>>>>>>>> 71\n",
      ">>>>>>>>>>>>>>>>>>>>>>>>>>>>>>>>>>>>>>>>>>>>> 72\n",
      ">>>>>>>>>>>>>>>>>>>>>>>>>>>>>>>>>>>>>>>>>>>>> 73\n",
      ">>>>>>>>>>>>>>>>>>>>>>>>>>>>>>>>>>>>>>>>>>>>> 74\n",
      ">>>>>>>>>>>>>>>>>>>>>>>>>>>>>>>>>>>>>>>>>>>>> 75\n",
      ">>>>>>>>>>>>>>>>>>>>>>>>>>>>>>>>>>>>>>>>>>>>> 76\n",
      ">>>>>>>>>>>>>>>>>>>>>>>>>>>>>>>>>>>>>>>>>>>>> 77\n",
      ">>>>>>>>>>>>>>>>>>>>>>>>>>>>>>>>>>>>>>>>>>>>> 78\n",
      ">>>>>>>>>>>>>>>>>>>>>>>>>>>>>>>>>>>>>>>>>>>>> 79\n"
     ]
    }
   ],
   "source": [
    "next_token_func = wrap_next_token_func(lambda bimgs, bx, bxlen: model2(bimgs, bx, bxlen))\n",
    "results = synthesize(images[-1].to(cpu_device), oimages[-1], render_engine, ivocab, vocab, next_token_func, max_unexamined_program=3, top_k=5, beam_width=50, max_depth=80)"
   ]
  },
  {
   "cell_type": "code",
   "execution_count": 58,
   "metadata": {},
   "outputs": [
    {
     "name": "stdout",
     "output_type": "stream",
     "text": [
      "0.9414560185185186\n",
      "['<program>', '<div class=\"container-fluid\">', '<div class=\"row\">', '<div class=\"col-4\">', '<div class=\"grey-background\">', '<button class=\"btn btn-danger\">', '</button>', '</div>', '</div>', '<div class=\"col-4\">', '<div class=\"grey-background\">', '<button class=\"btn btn-success\">', '</button>', '</div>', '</div>', '<div class=\"col-4\">', '<div class=\"grey-background\">', '<button class=\"btn btn-warning\">', '</button>', '<button class=\"btn btn-success\">', '</button>', '</div>', '</div>', '</div>', '<div class=\"row\">', '<div class=\"col-6\">', '<div class=\"grey-background\">', '<button class=\"btn btn-warning\">', '</button>', '<button class=\"btn btn-danger\">', '</button>', '</div>', '</div>', '<div class=\"col-6\">', '<div class=\"grey-background\">', '<button class=\"btn btn-success\">', '</button>', '<button class=\"btn btn-success\">', '</button>', '</div>', '</div>', '</div>', '<div class=\"row\">', '<div class=\"col-4\">', '<div class=\"grey-background\">', '<button class=\"btn btn-warning\">', '</button>', '</div>', '</div>', '<div class=\"col-4\">', '<div class=\"grey-background\">', '<button class=\"btn btn-success\">', '</button>', '</div>', '</div>', '<div class=\"col-4\">', '<div class=\"grey-background\">', '<button class=\"btn btn-danger\">', '</button>', '<button class=\"btn btn-success\">', '</button>', '</div>', '</div>', '</div>', '</div>', '</program>'] 66\n"
     ]
    },
    {
     "data": {
      "text/plain": [
       "<matplotlib.image.AxesImage at 0x7f9553dc1208>"
      ]
     },
     "execution_count": 58,
     "metadata": {},
     "output_type": "execute_result"
    },
    {
     "data": {
      "image/png": "[encoded data removed]",
      "text/plain": [
       "<Figure size 432x288 with 1 Axes>"
      ]
     },
     "metadata": {
      "needs_background": "light"
     },
     "output_type": "display_data"
    }
   ],
   "source": [
    "print(results[0].quality)\n",
    "tokens = [ivocab[w] for w in results[0].to_int_tokens(vocab)]\n",
    "print(tokens, len(tokens))\n",
    "plt.imshow(results[0].render_img(render_engine))"
   ]
  },
  {
   "cell_type": "code",
   "execution_count": 59,
   "metadata": {},
   "outputs": [
    {
     "data": {
      "text/plain": [
       "<matplotlib.image.AxesImage at 0x7f9553e08630>"
      ]
     },
     "execution_count": 59,
     "metadata": {},
     "output_type": "execute_result"
    },
    {
     "data": {
      "image/png": "[encoded data removed]",
      "text/plain": [
       "<Figure size 432x288 with 1 Axes>"
      ]
     },
     "metadata": {
      "needs_background": "light"
     },
     "output_type": "display_data"
    }
   ],
   "source": [
    "plt.imshow(oimages[-1])"
   ]
  },
  {
   "cell_type": "code",
   "execution_count": 11,
   "metadata": {},
   "outputs": [
    {
     "data": {
      "text/plain": [
       "{0: '<pad>',\n",
       " 1: '<program>',\n",
       " 2: '</program>',\n",
       " 3: '<div class=\"row\">',\n",
       " 4: '<div class=\"col-12\">',\n",
       " 5: '<div class=\"col-6\">',\n",
       " 6: '<div class=\"col-4\">',\n",
       " 7: '<div class=\"col-3\">',\n",
       " 8: '<div class=\"container-fluid\">',\n",
       " 9: '<div class=\"grey-background\">',\n",
       " 10: '</div>',\n",
       " 11: '<button class=\"btn btn-danger\">',\n",
       " 12: '<button class=\"btn btn-warning\">',\n",
       " 13: '<button class=\"btn btn-success\">',\n",
       " 14: '</button>'}"
      ]
     },
     "execution_count": 11,
     "metadata": {},
     "output_type": "execute_result"
    }
   ],
   "source": [
    "ivocab"
   ]
  },
  {
   "cell_type": "markdown",
   "metadata": {},
   "source": [
    "#### DEBUG the program\n",
    "\n",
    "Printing the image and allowing to discover next tags from the current program"
   ]
  },
  {
   "cell_type": "code",
   "execution_count": 37,
   "metadata": {},
   "outputs": [
    {
     "name": "stdout",
     "output_type": "stream",
     "text": [
      "['<program>', '<div class=\"container-fluid\">', '<div class=\"row\">', '<div class=\"col-4\">', '<div class=\"grey-background\">']\n",
      "token_idx | next_token_str                                    | prob\n",
      "       12 | <button class=\"btn btn-warning\">                  | 0.36612\n",
      "       13 | <button class=\"btn btn-success\">                  | 0.32509\n",
      "       11 | <button class=\"btn btn-danger\">                   | 0.30744\n",
      "        9 | <div class=\"grey-background\">                     | 0.00032\n",
      "       14 | </button>                                         | 0.00023\n",
      "        4 | <div class=\"col-12\">                              | 0.00023\n",
      "        6 | <div class=\"col-4\">                               | 0.00018\n",
      "        5 | <div class=\"col-6\">                               | 0.00009\n",
      "       10 | </div>                                            | 0.00007\n",
      "        2 | </program>                                        | 0.00006\n",
      "        7 | <div class=\"col-3\">                               | 0.00005\n",
      "        8 | <div class=\"container-fluid\">                     | 0.00005\n",
      "        0 | <pad>                                             | 0.00004\n",
      "        1 | <program>                                         | 0.00002\n",
      "        3 | <div class=\"row\">                                 | 0.00000\n"
     ]
    },
    {
     "data": {
      "image/png": "[encoded data removed]",
      "text/plain": [
       "<Figure size 432x288 with 1 Axes>"
      ]
     },
     "metadata": {
      "needs_background": "light"
     },
     "output_type": "display_data"
    }
   ],
   "source": [
    "plt.imshow(1 - images[0].clone().detach().cpu().numpy().transpose(1, 2, 0))\n",
    "program = HTMLProgram.from_int_tokens([1, 8, 3, 6, 9], ivocab)\n",
    "print([ivocab[w] for w in program.to_int_tokens(vocab)])\n",
    "\n",
    "program.print_next_tags(images[0], next_token_func, ivocab, vocab, device)"
   ]
  },
  {
   "cell_type": "code",
   "execution_count": 14,
   "metadata": {},
   "outputs": [],
   "source": [
    "program = HTMLProgram.from_int_tokens([8, 3, 5, 9, 11], ivocab)\n",
    "tag = program.to_linearized_tag()"
   ]
  },
  {
   "cell_type": "code",
   "execution_count": 95,
   "metadata": {},
   "outputs": [],
   "source": []
  },
  {
   "cell_type": "code",
   "execution_count": 119,
   "metadata": {},
   "outputs": [],
   "source": [
    "gui = render_engine.render_page(tag)"
   ]
  },
  {
   "cell_type": "code",
   "execution_count": 120,
   "metadata": {},
   "outputs": [],
   "source": [
    "gui = shrink_img(gui, 0.5)"
   ]
  },
  {
   "cell_type": "code",
   "execution_count": 121,
   "metadata": {},
   "outputs": [
    {
     "data": {
      "text/plain": [
       "(150, 240, 3)"
      ]
     },
     "execution_count": 121,
     "metadata": {},
     "output_type": "execute_result"
    }
   ],
   "source": [
    "gui.shape"
   ]
  },
  {
   "cell_type": "code",
   "execution_count": 122,
   "metadata": {},
   "outputs": [
    {
     "data": {
      "text/plain": [
       "<matplotlib.image.AxesImage at 0x7f647cffd128>"
      ]
     },
     "execution_count": 122,
     "metadata": {},
     "output_type": "execute_result"
    },
    {
     "data": {
      "image/png": "[encoded data removed]",
      "text/plain": [
       "<Figure size 432x288 with 1 Axes>"
      ]
     },
     "metadata": {
      "needs_background": "light"
     },
     "output_type": "display_data"
    }
   ],
   "source": [
    "plt.imshow(gui)"
   ]
  },
  {
   "cell_type": "code",
   "execution_count": 123,
   "metadata": {},
   "outputs": [],
   "source": [
    "ogui = shrink_img(oimages[0], 0.5)"
   ]
  },
  {
   "cell_type": "code",
   "execution_count": 124,
   "metadata": {},
   "outputs": [
    {
     "data": {
      "text/plain": [
       "<matplotlib.image.AxesImage at 0x7f647cf7c4a8>"
      ]
     },
     "execution_count": 124,
     "metadata": {},
     "output_type": "execute_result"
    },
    {
     "data": {
      "image/png": "[encoded data removed]",
      "text/plain": [
       "<Figure size 432x288 with 1 Axes>"
      ]
     },
     "metadata": {
      "needs_background": "light"
     },
     "output_type": "display_data"
    }
   ],
   "source": [
    "plt.imshow(ogui)"
   ]
  },
  {
   "cell_type": "code",
   "execution_count": 125,
   "metadata": {},
   "outputs": [
    {
     "data": {
      "text/plain": [
       "<matplotlib.image.AxesImage at 0x7f647ceea3c8>"
      ]
     },
     "execution_count": 125,
     "metadata": {},
     "output_type": "execute_result"
    },
    {
     "data": {
      "image/png": "[encoded data removed]",
      "text/plain": [
       "<Figure size 432x288 with 1 Axes>"
      ]
     },
     "metadata": {
      "needs_background": "light"
     },
     "output_type": "display_data"
    }
   ],
   "source": [
    "plt.imshow((gui == ogui).astype(np.float))"
   ]
  },
  {
   "cell_type": "code",
   "execution_count": 126,
   "metadata": {},
   "outputs": [
    {
     "data": {
      "text/plain": [
       "78933"
      ]
     },
     "execution_count": 126,
     "metadata": {},
     "output_type": "execute_result"
    }
   ],
   "source": [
    "(gui == ogui).sum()"
   ]
  },
  {
   "cell_type": "code",
   "execution_count": null,
   "metadata": {},
   "outputs": [],
   "source": []
  }
 ],
 "metadata": {
  "kernelspec": {
   "display_name": "sketch2code",
   "language": "python",
   "name": "sketch2code"
  },
  "language_info": {
   "codemirror_mode": {
    "name": "ipython",
    "version": 3
   },
   "file_extension": ".py",
   "mimetype": "text/x-python",
   "name": "python",
   "nbconvert_exporter": "python",
   "pygments_lexer": "ipython3",
   "version": "3.7.1"
  }
 },
 "nbformat": 4,
 "nbformat_minor": 2
}
